{
 "cells": [
  {
   "cell_type": "code",
   "execution_count": 1,
   "metadata": {},
   "outputs": [
    {
     "data": {
      "text/html": [
       "\n",
       "    <div class=\"bk-root\">\n",
       "        <a href=\"https://bokeh.pydata.org\" target=\"_blank\" class=\"bk-logo bk-logo-small bk-logo-notebook\"></a>\n",
       "        <span id=\"480ff61e-773d-412d-9284-df0033935fc4\">Loading BokehJS ...</span>\n",
       "    </div>"
      ]
     },
     "metadata": {},
     "output_type": "display_data"
    },
    {
     "data": {
      "application/javascript": [
       "\n",
       "(function(root) {\n",
       "  function now() {\n",
       "    return new Date();\n",
       "  }\n",
       "\n",
       "  var force = true;\n",
       "\n",
       "  if (typeof (root._bokeh_onload_callbacks) === \"undefined\" || force === true) {\n",
       "    root._bokeh_onload_callbacks = [];\n",
       "    root._bokeh_is_loading = undefined;\n",
       "  }\n",
       "\n",
       "  var JS_MIME_TYPE = 'application/javascript';\n",
       "  var HTML_MIME_TYPE = 'text/html';\n",
       "  var EXEC_MIME_TYPE = 'application/vnd.bokehjs_exec.v0+json';\n",
       "  var CLASS_NAME = 'output_bokeh rendered_html';\n",
       "\n",
       "  /**\n",
       "   * Render data to the DOM node\n",
       "   */\n",
       "  function render(props, node) {\n",
       "    var script = document.createElement(\"script\");\n",
       "    node.appendChild(script);\n",
       "  }\n",
       "\n",
       "  /**\n",
       "   * Handle when an output is cleared or removed\n",
       "   */\n",
       "  function handleClearOutput(event, handle) {\n",
       "    var cell = handle.cell;\n",
       "\n",
       "    var id = cell.output_area._bokeh_element_id;\n",
       "    var server_id = cell.output_area._bokeh_server_id;\n",
       "    // Clean up Bokeh references\n",
       "    if (id !== undefined) {\n",
       "      Bokeh.index[id].model.document.clear();\n",
       "      delete Bokeh.index[id];\n",
       "    }\n",
       "\n",
       "    if (server_id !== undefined) {\n",
       "      // Clean up Bokeh references\n",
       "      var cmd = \"from bokeh.io.state import curstate; print(curstate().uuid_to_server['\" + server_id + \"'].get_sessions()[0].document.roots[0]._id)\";\n",
       "      cell.notebook.kernel.execute(cmd, {\n",
       "        iopub: {\n",
       "          output: function(msg) {\n",
       "            var element_id = msg.content.text.trim();\n",
       "            Bokeh.index[element_id].model.document.clear();\n",
       "            delete Bokeh.index[element_id];\n",
       "          }\n",
       "        }\n",
       "      });\n",
       "      // Destroy server and session\n",
       "      var cmd = \"import bokeh.io.notebook as ion; ion.destroy_server('\" + server_id + \"')\";\n",
       "      cell.notebook.kernel.execute(cmd);\n",
       "    }\n",
       "  }\n",
       "\n",
       "  /**\n",
       "   * Handle when a new output is added\n",
       "   */\n",
       "  function handleAddOutput(event, handle) {\n",
       "    var output_area = handle.output_area;\n",
       "    var output = handle.output;\n",
       "\n",
       "    // limit handleAddOutput to display_data with EXEC_MIME_TYPE content only\n",
       "    if ((output.output_type != \"display_data\") || (!output.data.hasOwnProperty(EXEC_MIME_TYPE))) {\n",
       "      return\n",
       "    }\n",
       "\n",
       "    var toinsert = output_area.element.find(`.${CLASS_NAME.split(' ')[0]}`);\n",
       "\n",
       "    if (output.metadata[EXEC_MIME_TYPE][\"id\"] !== undefined) {\n",
       "      toinsert[0].firstChild.textContent = output.data[JS_MIME_TYPE];\n",
       "      // store reference to embed id on output_area\n",
       "      output_area._bokeh_element_id = output.metadata[EXEC_MIME_TYPE][\"id\"];\n",
       "    }\n",
       "    if (output.metadata[EXEC_MIME_TYPE][\"server_id\"] !== undefined) {\n",
       "      var bk_div = document.createElement(\"div\");\n",
       "      bk_div.innerHTML = output.data[HTML_MIME_TYPE];\n",
       "      var script_attrs = bk_div.children[0].attributes;\n",
       "      for (var i = 0; i < script_attrs.length; i++) {\n",
       "        toinsert[0].firstChild.setAttribute(script_attrs[i].name, script_attrs[i].value);\n",
       "      }\n",
       "      // store reference to server id on output_area\n",
       "      output_area._bokeh_server_id = output.metadata[EXEC_MIME_TYPE][\"server_id\"];\n",
       "    }\n",
       "  }\n",
       "\n",
       "  function register_renderer(events, OutputArea) {\n",
       "\n",
       "    function append_mime(data, metadata, element) {\n",
       "      // create a DOM node to render to\n",
       "      var toinsert = this.create_output_subarea(\n",
       "        metadata,\n",
       "        CLASS_NAME,\n",
       "        EXEC_MIME_TYPE\n",
       "      );\n",
       "      this.keyboard_manager.register_events(toinsert);\n",
       "      // Render to node\n",
       "      var props = {data: data, metadata: metadata[EXEC_MIME_TYPE]};\n",
       "      render(props, toinsert[0]);\n",
       "      element.append(toinsert);\n",
       "      return toinsert\n",
       "    }\n",
       "\n",
       "    /* Handle when an output is cleared or removed */\n",
       "    events.on('clear_output.CodeCell', handleClearOutput);\n",
       "    events.on('delete.Cell', handleClearOutput);\n",
       "\n",
       "    /* Handle when a new output is added */\n",
       "    events.on('output_added.OutputArea', handleAddOutput);\n",
       "\n",
       "    /**\n",
       "     * Register the mime type and append_mime function with output_area\n",
       "     */\n",
       "    OutputArea.prototype.register_mime_type(EXEC_MIME_TYPE, append_mime, {\n",
       "      /* Is output safe? */\n",
       "      safe: true,\n",
       "      /* Index of renderer in `output_area.display_order` */\n",
       "      index: 0\n",
       "    });\n",
       "  }\n",
       "\n",
       "  // register the mime type if in Jupyter Notebook environment and previously unregistered\n",
       "  if (root.Jupyter !== undefined) {\n",
       "    var events = require('base/js/events');\n",
       "    var OutputArea = require('notebook/js/outputarea').OutputArea;\n",
       "\n",
       "    if (OutputArea.prototype.mime_types().indexOf(EXEC_MIME_TYPE) == -1) {\n",
       "      register_renderer(events, OutputArea);\n",
       "    }\n",
       "  }\n",
       "\n",
       "  \n",
       "  if (typeof (root._bokeh_timeout) === \"undefined\" || force === true) {\n",
       "    root._bokeh_timeout = Date.now() + 5000;\n",
       "    root._bokeh_failed_load = false;\n",
       "  }\n",
       "\n",
       "  var NB_LOAD_WARNING = {'data': {'text/html':\n",
       "     \"<div style='background-color: #fdd'>\\n\"+\n",
       "     \"<p>\\n\"+\n",
       "     \"BokehJS does not appear to have successfully loaded. If loading BokehJS from CDN, this \\n\"+\n",
       "     \"may be due to a slow or bad network connection. Possible fixes:\\n\"+\n",
       "     \"</p>\\n\"+\n",
       "     \"<ul>\\n\"+\n",
       "     \"<li>re-rerun `output_notebook()` to attempt to load from CDN again, or</li>\\n\"+\n",
       "     \"<li>use INLINE resources instead, as so:</li>\\n\"+\n",
       "     \"</ul>\\n\"+\n",
       "     \"<code>\\n\"+\n",
       "     \"from bokeh.resources import INLINE\\n\"+\n",
       "     \"output_notebook(resources=INLINE)\\n\"+\n",
       "     \"</code>\\n\"+\n",
       "     \"</div>\"}};\n",
       "\n",
       "  function display_loaded() {\n",
       "    var el = document.getElementById(\"480ff61e-773d-412d-9284-df0033935fc4\");\n",
       "    if (el != null) {\n",
       "      el.textContent = \"BokehJS is loading...\";\n",
       "    }\n",
       "    if (root.Bokeh !== undefined) {\n",
       "      if (el != null) {\n",
       "        el.textContent = \"BokehJS \" + root.Bokeh.version + \" successfully loaded.\";\n",
       "      }\n",
       "    } else if (Date.now() < root._bokeh_timeout) {\n",
       "      setTimeout(display_loaded, 100)\n",
       "    }\n",
       "  }\n",
       "\n",
       "\n",
       "  function run_callbacks() {\n",
       "    try {\n",
       "      root._bokeh_onload_callbacks.forEach(function(callback) { callback() });\n",
       "    }\n",
       "    finally {\n",
       "      delete root._bokeh_onload_callbacks\n",
       "    }\n",
       "    console.info(\"Bokeh: all callbacks have finished\");\n",
       "  }\n",
       "\n",
       "  function load_libs(js_urls, callback) {\n",
       "    root._bokeh_onload_callbacks.push(callback);\n",
       "    if (root._bokeh_is_loading > 0) {\n",
       "      console.log(\"Bokeh: BokehJS is being loaded, scheduling callback at\", now());\n",
       "      return null;\n",
       "    }\n",
       "    if (js_urls == null || js_urls.length === 0) {\n",
       "      run_callbacks();\n",
       "      return null;\n",
       "    }\n",
       "    console.log(\"Bokeh: BokehJS not loaded, scheduling load and callback at\", now());\n",
       "    root._bokeh_is_loading = js_urls.length;\n",
       "    for (var i = 0; i < js_urls.length; i++) {\n",
       "      var url = js_urls[i];\n",
       "      var s = document.createElement('script');\n",
       "      s.src = url;\n",
       "      s.async = false;\n",
       "      s.onreadystatechange = s.onload = function() {\n",
       "        root._bokeh_is_loading--;\n",
       "        if (root._bokeh_is_loading === 0) {\n",
       "          console.log(\"Bokeh: all BokehJS libraries loaded\");\n",
       "          run_callbacks()\n",
       "        }\n",
       "      };\n",
       "      s.onerror = function() {\n",
       "        console.warn(\"failed to load library \" + url);\n",
       "      };\n",
       "      console.log(\"Bokeh: injecting script tag for BokehJS library: \", url);\n",
       "      document.getElementsByTagName(\"head\")[0].appendChild(s);\n",
       "    }\n",
       "  };var element = document.getElementById(\"480ff61e-773d-412d-9284-df0033935fc4\");\n",
       "  if (element == null) {\n",
       "    console.log(\"Bokeh: ERROR: autoload.js configured with elementid '480ff61e-773d-412d-9284-df0033935fc4' but no matching script tag was found. \")\n",
       "    return false;\n",
       "  }\n",
       "\n",
       "  var js_urls = [\"https://cdn.pydata.org/bokeh/release/bokeh-0.12.10.min.js\", \"https://cdn.pydata.org/bokeh/release/bokeh-widgets-0.12.10.min.js\", \"https://cdn.pydata.org/bokeh/release/bokeh-tables-0.12.10.min.js\", \"https://cdn.pydata.org/bokeh/release/bokeh-gl-0.12.10.min.js\"];\n",
       "\n",
       "  var inline_js = [\n",
       "    function(Bokeh) {\n",
       "      Bokeh.set_log_level(\"info\");\n",
       "    },\n",
       "    \n",
       "    function(Bokeh) {\n",
       "      \n",
       "    },\n",
       "    function(Bokeh) {\n",
       "      console.log(\"Bokeh: injecting CSS: https://cdn.pydata.org/bokeh/release/bokeh-0.12.10.min.css\");\n",
       "      Bokeh.embed.inject_css(\"https://cdn.pydata.org/bokeh/release/bokeh-0.12.10.min.css\");\n",
       "      console.log(\"Bokeh: injecting CSS: https://cdn.pydata.org/bokeh/release/bokeh-widgets-0.12.10.min.css\");\n",
       "      Bokeh.embed.inject_css(\"https://cdn.pydata.org/bokeh/release/bokeh-widgets-0.12.10.min.css\");\n",
       "      console.log(\"Bokeh: injecting CSS: https://cdn.pydata.org/bokeh/release/bokeh-tables-0.12.10.min.css\");\n",
       "      Bokeh.embed.inject_css(\"https://cdn.pydata.org/bokeh/release/bokeh-tables-0.12.10.min.css\");\n",
       "    }\n",
       "  ];\n",
       "\n",
       "  function run_inline_js() {\n",
       "    \n",
       "    if ((root.Bokeh !== undefined) || (force === true)) {\n",
       "      for (var i = 0; i < inline_js.length; i++) {\n",
       "        inline_js[i].call(root, root.Bokeh);\n",
       "      }if (force === true) {\n",
       "        display_loaded();\n",
       "      }} else if (Date.now() < root._bokeh_timeout) {\n",
       "      setTimeout(run_inline_js, 100);\n",
       "    } else if (!root._bokeh_failed_load) {\n",
       "      console.log(\"Bokeh: BokehJS failed to load within specified timeout.\");\n",
       "      root._bokeh_failed_load = true;\n",
       "    } else if (force !== true) {\n",
       "      var cell = $(document.getElementById(\"480ff61e-773d-412d-9284-df0033935fc4\")).parents('.cell').data().cell;\n",
       "      cell.output_area.append_execute_result(NB_LOAD_WARNING)\n",
       "    }\n",
       "\n",
       "  }\n",
       "\n",
       "  if (root._bokeh_is_loading === 0) {\n",
       "    console.log(\"Bokeh: BokehJS loaded, going straight to plotting\");\n",
       "    run_inline_js();\n",
       "  } else {\n",
       "    load_libs(js_urls, function() {\n",
       "      console.log(\"Bokeh: BokehJS plotting callback run at\", now());\n",
       "      run_inline_js();\n",
       "    });\n",
       "  }\n",
       "}(window));"
      ],
      "application/vnd.bokehjs_load.v0+json": "\n(function(root) {\n  function now() {\n    return new Date();\n  }\n\n  var force = true;\n\n  if (typeof (root._bokeh_onload_callbacks) === \"undefined\" || force === true) {\n    root._bokeh_onload_callbacks = [];\n    root._bokeh_is_loading = undefined;\n  }\n\n  \n\n  \n  if (typeof (root._bokeh_timeout) === \"undefined\" || force === true) {\n    root._bokeh_timeout = Date.now() + 5000;\n    root._bokeh_failed_load = false;\n  }\n\n  var NB_LOAD_WARNING = {'data': {'text/html':\n     \"<div style='background-color: #fdd'>\\n\"+\n     \"<p>\\n\"+\n     \"BokehJS does not appear to have successfully loaded. If loading BokehJS from CDN, this \\n\"+\n     \"may be due to a slow or bad network connection. Possible fixes:\\n\"+\n     \"</p>\\n\"+\n     \"<ul>\\n\"+\n     \"<li>re-rerun `output_notebook()` to attempt to load from CDN again, or</li>\\n\"+\n     \"<li>use INLINE resources instead, as so:</li>\\n\"+\n     \"</ul>\\n\"+\n     \"<code>\\n\"+\n     \"from bokeh.resources import INLINE\\n\"+\n     \"output_notebook(resources=INLINE)\\n\"+\n     \"</code>\\n\"+\n     \"</div>\"}};\n\n  function display_loaded() {\n    var el = document.getElementById(\"480ff61e-773d-412d-9284-df0033935fc4\");\n    if (el != null) {\n      el.textContent = \"BokehJS is loading...\";\n    }\n    if (root.Bokeh !== undefined) {\n      if (el != null) {\n        el.textContent = \"BokehJS \" + root.Bokeh.version + \" successfully loaded.\";\n      }\n    } else if (Date.now() < root._bokeh_timeout) {\n      setTimeout(display_loaded, 100)\n    }\n  }\n\n\n  function run_callbacks() {\n    try {\n      root._bokeh_onload_callbacks.forEach(function(callback) { callback() });\n    }\n    finally {\n      delete root._bokeh_onload_callbacks\n    }\n    console.info(\"Bokeh: all callbacks have finished\");\n  }\n\n  function load_libs(js_urls, callback) {\n    root._bokeh_onload_callbacks.push(callback);\n    if (root._bokeh_is_loading > 0) {\n      console.log(\"Bokeh: BokehJS is being loaded, scheduling callback at\", now());\n      return null;\n    }\n    if (js_urls == null || js_urls.length === 0) {\n      run_callbacks();\n      return null;\n    }\n    console.log(\"Bokeh: BokehJS not loaded, scheduling load and callback at\", now());\n    root._bokeh_is_loading = js_urls.length;\n    for (var i = 0; i < js_urls.length; i++) {\n      var url = js_urls[i];\n      var s = document.createElement('script');\n      s.src = url;\n      s.async = false;\n      s.onreadystatechange = s.onload = function() {\n        root._bokeh_is_loading--;\n        if (root._bokeh_is_loading === 0) {\n          console.log(\"Bokeh: all BokehJS libraries loaded\");\n          run_callbacks()\n        }\n      };\n      s.onerror = function() {\n        console.warn(\"failed to load library \" + url);\n      };\n      console.log(\"Bokeh: injecting script tag for BokehJS library: \", url);\n      document.getElementsByTagName(\"head\")[0].appendChild(s);\n    }\n  };var element = document.getElementById(\"480ff61e-773d-412d-9284-df0033935fc4\");\n  if (element == null) {\n    console.log(\"Bokeh: ERROR: autoload.js configured with elementid '480ff61e-773d-412d-9284-df0033935fc4' but no matching script tag was found. \")\n    return false;\n  }\n\n  var js_urls = [\"https://cdn.pydata.org/bokeh/release/bokeh-0.12.10.min.js\", \"https://cdn.pydata.org/bokeh/release/bokeh-widgets-0.12.10.min.js\", \"https://cdn.pydata.org/bokeh/release/bokeh-tables-0.12.10.min.js\", \"https://cdn.pydata.org/bokeh/release/bokeh-gl-0.12.10.min.js\"];\n\n  var inline_js = [\n    function(Bokeh) {\n      Bokeh.set_log_level(\"info\");\n    },\n    \n    function(Bokeh) {\n      \n    },\n    function(Bokeh) {\n      console.log(\"Bokeh: injecting CSS: https://cdn.pydata.org/bokeh/release/bokeh-0.12.10.min.css\");\n      Bokeh.embed.inject_css(\"https://cdn.pydata.org/bokeh/release/bokeh-0.12.10.min.css\");\n      console.log(\"Bokeh: injecting CSS: https://cdn.pydata.org/bokeh/release/bokeh-widgets-0.12.10.min.css\");\n      Bokeh.embed.inject_css(\"https://cdn.pydata.org/bokeh/release/bokeh-widgets-0.12.10.min.css\");\n      console.log(\"Bokeh: injecting CSS: https://cdn.pydata.org/bokeh/release/bokeh-tables-0.12.10.min.css\");\n      Bokeh.embed.inject_css(\"https://cdn.pydata.org/bokeh/release/bokeh-tables-0.12.10.min.css\");\n    }\n  ];\n\n  function run_inline_js() {\n    \n    if ((root.Bokeh !== undefined) || (force === true)) {\n      for (var i = 0; i < inline_js.length; i++) {\n        inline_js[i].call(root, root.Bokeh);\n      }if (force === true) {\n        display_loaded();\n      }} else if (Date.now() < root._bokeh_timeout) {\n      setTimeout(run_inline_js, 100);\n    } else if (!root._bokeh_failed_load) {\n      console.log(\"Bokeh: BokehJS failed to load within specified timeout.\");\n      root._bokeh_failed_load = true;\n    } else if (force !== true) {\n      var cell = $(document.getElementById(\"480ff61e-773d-412d-9284-df0033935fc4\")).parents('.cell').data().cell;\n      cell.output_area.append_execute_result(NB_LOAD_WARNING)\n    }\n\n  }\n\n  if (root._bokeh_is_loading === 0) {\n    console.log(\"Bokeh: BokehJS loaded, going straight to plotting\");\n    run_inline_js();\n  } else {\n    load_libs(js_urls, function() {\n      console.log(\"Bokeh: BokehJS plotting callback run at\", now());\n      run_inline_js();\n    });\n  }\n}(window));"
     },
     "metadata": {},
     "output_type": "display_data"
    }
   ],
   "source": [
    "from bokeh.io import push_notebook, show, output_notebook\n",
    "from bokeh.layouts import row\n",
    "from bokeh.plotting import figure\n",
    "output_notebook()"
   ]
  },
  {
   "cell_type": "code",
   "execution_count": 2,
   "metadata": {},
   "outputs": [
    {
     "data": {
      "text/html": [
       "\n",
       "<div class=\"bk-root\">\n",
       "    <div class=\"bk-plotdiv\" id=\"9eabb2a8-2ed5-4189-8659-765a9f752565\"></div>\n",
       "</div>"
      ]
     },
     "metadata": {},
     "output_type": "display_data"
    },
    {
     "data": {
      "application/javascript": [
       "(function(root) {\n",
       "  function embed_document(root) {\n",
       "    var docs_json = {\"03eb3763-ba80-4c27-b8a8-e7140b52852a\":{\"roots\":{\"references\":[{\"attributes\":{\"bottom_units\":\"screen\",\"fill_alpha\":{\"value\":0.5},\"fill_color\":{\"value\":\"lightgrey\"},\"left_units\":\"screen\",\"level\":\"overlay\",\"line_alpha\":{\"value\":1.0},\"line_color\":{\"value\":\"black\"},\"line_dash\":[4,4],\"line_width\":{\"value\":2},\"plot\":null,\"render_mode\":\"css\",\"right_units\":\"screen\",\"top_units\":\"screen\"},\"id\":\"4b6bbf3b-4626-4748-ab39-0525ece2b0a5\",\"type\":\"BoxAnnotation\"},{\"attributes\":{\"active_drag\":\"auto\",\"active_inspect\":\"auto\",\"active_scroll\":\"auto\",\"active_tap\":\"auto\",\"tools\":[{\"id\":\"ee916140-bd26-4d31-88ce-2d5327080dfd\",\"type\":\"PanTool\"},{\"id\":\"bfcfb0e2-453e-4ea2-a990-decc9eceebad\",\"type\":\"WheelZoomTool\"},{\"id\":\"7d9091b0-ccbc-428e-abbf-14e447c153c5\",\"type\":\"BoxZoomTool\"},{\"id\":\"1cb32927-dbf1-4517-9725-10b647a3aa9a\",\"type\":\"SaveTool\"},{\"id\":\"82c678c9-db14-43f6-b33a-79b0959414ab\",\"type\":\"ResetTool\"},{\"id\":\"f54f9f76-a6e4-4d03-af25-f13888004fd5\",\"type\":\"HelpTool\"}]},\"id\":\"40a605fd-b61b-48c3-9154-87fe626afb0a\",\"type\":\"Toolbar\"},{\"attributes\":{\"formatter\":{\"id\":\"160dcb53-dcdb-4192-8d2c-3636b2aba913\",\"type\":\"BasicTickFormatter\"},\"plot\":{\"id\":\"0c53bee0-21fd-43a4-908c-9106af4669d3\",\"subtype\":\"Figure\",\"type\":\"Plot\"},\"ticker\":{\"id\":\"d457dd11-8e53-4c00-aa5e-e653bc140acd\",\"type\":\"BasicTicker\"}},\"id\":\"bfc971b8-4705-43a9-9a00-c8d0eed029e8\",\"type\":\"LinearAxis\"},{\"attributes\":{},\"id\":\"d457dd11-8e53-4c00-aa5e-e653bc140acd\",\"type\":\"BasicTicker\"},{\"attributes\":{\"data_source\":{\"id\":\"c4412e0a-4675-4bfa-a4b3-285c2b663433\",\"type\":\"ColumnDataSource\"},\"glyph\":{\"id\":\"3174bebc-921c-49f1-a4aa-5beb8afc7d94\",\"type\":\"Circle\"},\"hover_glyph\":null,\"muted_glyph\":null,\"nonselection_glyph\":{\"id\":\"c21b8682-9b35-428a-9a3d-266494b44953\",\"type\":\"Circle\"},\"selection_glyph\":null,\"view\":{\"id\":\"b5894dc9-7d8c-411a-97d4-01862d842e2a\",\"type\":\"CDSView\"}},\"id\":\"c18ad7f7-7914-44b2-98bc-14d5601294fd\",\"type\":\"GlyphRenderer\"},{\"attributes\":{},\"id\":\"b0db8972-729c-4877-aa4e-e36e407eeb70\",\"type\":\"BasicTickFormatter\"},{\"attributes\":{\"plot\":{\"id\":\"0c53bee0-21fd-43a4-908c-9106af4669d3\",\"subtype\":\"Figure\",\"type\":\"Plot\"},\"ticker\":{\"id\":\"d457dd11-8e53-4c00-aa5e-e653bc140acd\",\"type\":\"BasicTicker\"}},\"id\":\"f159bfe2-89bd-4c2f-bca3-e1ec04b0d4e0\",\"type\":\"Grid\"},{\"attributes\":{\"callback\":null},\"id\":\"54ee00d5-dce7-415a-aa94-de8e1e956288\",\"type\":\"DataRange1d\"},{\"attributes\":{\"data_source\":{\"id\":\"e447afcf-d386-4d07-bbd5-c09ae2eeee03\",\"type\":\"ColumnDataSource\"},\"glyph\":{\"id\":\"fa7d0e17-c5dc-41a5-bd78-606e4a3b27c4\",\"type\":\"Circle\"},\"hover_glyph\":null,\"muted_glyph\":null,\"nonselection_glyph\":{\"id\":\"da85f191-04fe-4136-a1c3-8563cbf4b51a\",\"type\":\"Circle\"},\"selection_glyph\":null,\"view\":{\"id\":\"0d18d257-5c5c-418d-b34d-869911428bbb\",\"type\":\"CDSView\"}},\"id\":\"1ddded9f-6499-469d-945e-275189aec492\",\"type\":\"GlyphRenderer\"},{\"attributes\":{\"callback\":null},\"id\":\"f6fcc2ea-e965-4290-9ac1-83dfe4edcbbd\",\"type\":\"DataRange1d\"},{\"attributes\":{\"callback\":null,\"column_names\":[\"x\",\"y\"],\"data\":{\"x\":[1,2,3],\"y\":[4,5,6]}},\"id\":\"c4412e0a-4675-4bfa-a4b3-285c2b663433\",\"type\":\"ColumnDataSource\"},{\"attributes\":{\"fill_color\":{\"value\":\"#1f77b4\"},\"line_color\":{\"value\":\"#1f77b4\"},\"size\":{\"units\":\"screen\",\"value\":20},\"x\":{\"field\":\"x\"},\"y\":{\"field\":\"y\"}},\"id\":\"fa7d0e17-c5dc-41a5-bd78-606e4a3b27c4\",\"type\":\"Circle\"},{\"attributes\":{\"active_drag\":\"auto\",\"active_inspect\":\"auto\",\"active_scroll\":\"auto\",\"active_tap\":\"auto\",\"tools\":[{\"id\":\"2726e208-8dfa-4202-98a2-f25690e0c74c\",\"type\":\"PanTool\"},{\"id\":\"36b1eb2a-ccc8-4eb2-92ed-66cd7eabe85d\",\"type\":\"WheelZoomTool\"},{\"id\":\"e2ea140e-f5c1-43ed-a84a-7787b03b3c56\",\"type\":\"BoxZoomTool\"},{\"id\":\"b06568c3-0764-4518-b279-eb53d8cf46e9\",\"type\":\"SaveTool\"},{\"id\":\"7f9eb7e4-fbda-4b47-b253-06691c611af1\",\"type\":\"ResetTool\"},{\"id\":\"442c2d8c-02f8-4f70-90d6-e3cd56d1efd9\",\"type\":\"HelpTool\"}]},\"id\":\"4f87abb5-8dfb-491a-b552-6814576f7563\",\"type\":\"Toolbar\"},{\"attributes\":{\"formatter\":{\"id\":\"2bb5bfa0-fb6e-4324-ba43-37310b258f75\",\"type\":\"BasicTickFormatter\"},\"plot\":{\"id\":\"0c53bee0-21fd-43a4-908c-9106af4669d3\",\"subtype\":\"Figure\",\"type\":\"Plot\"},\"ticker\":{\"id\":\"3ff37a70-ba9f-4d22-8ef5-c16aeb12a1f8\",\"type\":\"BasicTicker\"}},\"id\":\"8823abd2-120a-4f53-8685-27bb347996bb\",\"type\":\"LinearAxis\"},{\"attributes\":{\"below\":[{\"id\":\"355703b4-b041-4fd3-acaf-d253eea81021\",\"type\":\"LinearAxis\"}],\"left\":[{\"id\":\"36dedd45-9058-41ab-9fcc-f5a983a97084\",\"type\":\"LinearAxis\"}],\"min_border\":0,\"plot_height\":250,\"plot_width\":250,\"renderers\":[{\"id\":\"355703b4-b041-4fd3-acaf-d253eea81021\",\"type\":\"LinearAxis\"},{\"id\":\"51e0ad21-ee44-4824-bcc0-f02c05050fa8\",\"type\":\"Grid\"},{\"id\":\"36dedd45-9058-41ab-9fcc-f5a983a97084\",\"type\":\"LinearAxis\"},{\"id\":\"21523c9a-64da-4fd0-a709-c58b9d2e0abe\",\"type\":\"Grid\"},{\"id\":\"4b6bbf3b-4626-4748-ab39-0525ece2b0a5\",\"type\":\"BoxAnnotation\"},{\"id\":\"c18ad7f7-7914-44b2-98bc-14d5601294fd\",\"type\":\"GlyphRenderer\"}],\"title\":{\"id\":\"c5247720-e1cb-477a-9bab-96c9402c515a\",\"type\":\"Title\"},\"toolbar\":{\"id\":\"4f87abb5-8dfb-491a-b552-6814576f7563\",\"type\":\"Toolbar\"},\"x_range\":{\"id\":\"31efb815-9090-4494-9297-1ca0c37b556d\",\"type\":\"DataRange1d\"},\"x_scale\":{\"id\":\"3da462a8-7423-498e-9b77-081381d580c8\",\"type\":\"LinearScale\"},\"y_range\":{\"id\":\"83a3b3f9-b29e-47b6-b15b-26e3f1feae4c\",\"type\":\"DataRange1d\"},\"y_scale\":{\"id\":\"b47c13ad-efb2-4714-aed1-e1613365e4bd\",\"type\":\"LinearScale\"}},\"id\":\"d08e886e-f511-4cfb-b3e0-67647a88343a\",\"subtype\":\"Figure\",\"type\":\"Plot\"},{\"attributes\":{},\"id\":\"3ff37a70-ba9f-4d22-8ef5-c16aeb12a1f8\",\"type\":\"BasicTicker\"},{\"attributes\":{\"callback\":null},\"id\":\"31efb815-9090-4494-9297-1ca0c37b556d\",\"type\":\"DataRange1d\"},{\"attributes\":{\"dimension\":1,\"plot\":{\"id\":\"0c53bee0-21fd-43a4-908c-9106af4669d3\",\"subtype\":\"Figure\",\"type\":\"Plot\"},\"ticker\":{\"id\":\"3ff37a70-ba9f-4d22-8ef5-c16aeb12a1f8\",\"type\":\"BasicTicker\"}},\"id\":\"b4328f5f-9a89-408b-93fd-ff11a87c9905\",\"type\":\"Grid\"},{\"attributes\":{\"callback\":null,\"column_names\":[\"x\",\"y\"],\"data\":{\"x\":[1,2,3],\"y\":[4,5,6]}},\"id\":\"e447afcf-d386-4d07-bbd5-c09ae2eeee03\",\"type\":\"ColumnDataSource\"},{\"attributes\":{\"fill_alpha\":{\"value\":0.1},\"fill_color\":{\"value\":\"#1f77b4\"},\"line_alpha\":{\"value\":0.1},\"line_color\":{\"value\":\"#1f77b4\"},\"size\":{\"units\":\"screen\",\"value\":20},\"x\":{\"field\":\"x\"},\"y\":{\"field\":\"y\"}},\"id\":\"da85f191-04fe-4136-a1c3-8563cbf4b51a\",\"type\":\"Circle\"},{\"attributes\":{\"callback\":null},\"id\":\"83a3b3f9-b29e-47b6-b15b-26e3f1feae4c\",\"type\":\"DataRange1d\"},{\"attributes\":{},\"id\":\"3da462a8-7423-498e-9b77-081381d580c8\",\"type\":\"LinearScale\"},{\"attributes\":{\"children\":[{\"id\":\"d08e886e-f511-4cfb-b3e0-67647a88343a\",\"subtype\":\"Figure\",\"type\":\"Plot\"},{\"id\":\"0c53bee0-21fd-43a4-908c-9106af4669d3\",\"subtype\":\"Figure\",\"type\":\"Plot\"}]},\"id\":\"e1365968-666a-4d03-9442-d8727eae72cd\",\"type\":\"Row\"},{\"attributes\":{},\"id\":\"b47c13ad-efb2-4714-aed1-e1613365e4bd\",\"type\":\"LinearScale\"},{\"attributes\":{\"bottom_units\":\"screen\",\"fill_alpha\":{\"value\":0.5},\"fill_color\":{\"value\":\"lightgrey\"},\"left_units\":\"screen\",\"level\":\"overlay\",\"line_alpha\":{\"value\":1.0},\"line_color\":{\"value\":\"black\"},\"line_dash\":[4,4],\"line_width\":{\"value\":2},\"plot\":null,\"render_mode\":\"css\",\"right_units\":\"screen\",\"top_units\":\"screen\"},\"id\":\"ea167d8b-d51d-46e3-96ca-c82c0a20f527\",\"type\":\"BoxAnnotation\"},{\"attributes\":{},\"id\":\"ee916140-bd26-4d31-88ce-2d5327080dfd\",\"type\":\"PanTool\"},{\"attributes\":{\"formatter\":{\"id\":\"f1713b8b-d8c8-497d-89ae-ee4b36849d10\",\"type\":\"BasicTickFormatter\"},\"plot\":{\"id\":\"d08e886e-f511-4cfb-b3e0-67647a88343a\",\"subtype\":\"Figure\",\"type\":\"Plot\"},\"ticker\":{\"id\":\"3701a8ac-51d2-4ad6-9c53-13eb5ab57582\",\"type\":\"BasicTicker\"}},\"id\":\"355703b4-b041-4fd3-acaf-d253eea81021\",\"type\":\"LinearAxis\"},{\"attributes\":{\"source\":{\"id\":\"e447afcf-d386-4d07-bbd5-c09ae2eeee03\",\"type\":\"ColumnDataSource\"}},\"id\":\"0d18d257-5c5c-418d-b34d-869911428bbb\",\"type\":\"CDSView\"},{\"attributes\":{},\"id\":\"3701a8ac-51d2-4ad6-9c53-13eb5ab57582\",\"type\":\"BasicTicker\"},{\"attributes\":{},\"id\":\"bfcfb0e2-453e-4ea2-a990-decc9eceebad\",\"type\":\"WheelZoomTool\"},{\"attributes\":{\"plot\":{\"id\":\"d08e886e-f511-4cfb-b3e0-67647a88343a\",\"subtype\":\"Figure\",\"type\":\"Plot\"},\"ticker\":{\"id\":\"3701a8ac-51d2-4ad6-9c53-13eb5ab57582\",\"type\":\"BasicTicker\"}},\"id\":\"51e0ad21-ee44-4824-bcc0-f02c05050fa8\",\"type\":\"Grid\"},{\"attributes\":{\"source\":{\"id\":\"c4412e0a-4675-4bfa-a4b3-285c2b663433\",\"type\":\"ColumnDataSource\"}},\"id\":\"b5894dc9-7d8c-411a-97d4-01862d842e2a\",\"type\":\"CDSView\"},{\"attributes\":{\"overlay\":{\"id\":\"ea167d8b-d51d-46e3-96ca-c82c0a20f527\",\"type\":\"BoxAnnotation\"}},\"id\":\"7d9091b0-ccbc-428e-abbf-14e447c153c5\",\"type\":\"BoxZoomTool\"},{\"attributes\":{\"formatter\":{\"id\":\"b0db8972-729c-4877-aa4e-e36e407eeb70\",\"type\":\"BasicTickFormatter\"},\"plot\":{\"id\":\"d08e886e-f511-4cfb-b3e0-67647a88343a\",\"subtype\":\"Figure\",\"type\":\"Plot\"},\"ticker\":{\"id\":\"38f223e5-4873-42de-b1d4-452b90319b0c\",\"type\":\"BasicTicker\"}},\"id\":\"36dedd45-9058-41ab-9fcc-f5a983a97084\",\"type\":\"LinearAxis\"},{\"attributes\":{\"plot\":null,\"text\":\"\"},\"id\":\"c5247720-e1cb-477a-9bab-96c9402c515a\",\"type\":\"Title\"},{\"attributes\":{},\"id\":\"38f223e5-4873-42de-b1d4-452b90319b0c\",\"type\":\"BasicTicker\"},{\"attributes\":{},\"id\":\"1cb32927-dbf1-4517-9725-10b647a3aa9a\",\"type\":\"SaveTool\"},{\"attributes\":{},\"id\":\"82c678c9-db14-43f6-b33a-79b0959414ab\",\"type\":\"ResetTool\"},{\"attributes\":{\"dimension\":1,\"plot\":{\"id\":\"d08e886e-f511-4cfb-b3e0-67647a88343a\",\"subtype\":\"Figure\",\"type\":\"Plot\"},\"ticker\":{\"id\":\"38f223e5-4873-42de-b1d4-452b90319b0c\",\"type\":\"BasicTicker\"}},\"id\":\"21523c9a-64da-4fd0-a709-c58b9d2e0abe\",\"type\":\"Grid\"},{\"attributes\":{},\"id\":\"f1713b8b-d8c8-497d-89ae-ee4b36849d10\",\"type\":\"BasicTickFormatter\"},{\"attributes\":{},\"id\":\"f54f9f76-a6e4-4d03-af25-f13888004fd5\",\"type\":\"HelpTool\"},{\"attributes\":{},\"id\":\"160dcb53-dcdb-4192-8d2c-3636b2aba913\",\"type\":\"BasicTickFormatter\"},{\"attributes\":{},\"id\":\"fed5638e-d30a-40d9-add2-bfecab788055\",\"type\":\"LinearScale\"},{\"attributes\":{\"fill_color\":{\"value\":\"#1f77b4\"},\"line_color\":{\"value\":\"#1f77b4\"},\"size\":{\"units\":\"screen\",\"value\":20},\"x\":{\"field\":\"x\"},\"y\":{\"field\":\"y\"}},\"id\":\"3174bebc-921c-49f1-a4aa-5beb8afc7d94\",\"type\":\"Circle\"},{\"attributes\":{\"plot\":null,\"text\":\"\"},\"id\":\"cc86a4b4-f4a5-4114-ab36-a9ebedd6f517\",\"type\":\"Title\"},{\"attributes\":{\"below\":[{\"id\":\"bfc971b8-4705-43a9-9a00-c8d0eed029e8\",\"type\":\"LinearAxis\"}],\"left\":[{\"id\":\"8823abd2-120a-4f53-8685-27bb347996bb\",\"type\":\"LinearAxis\"}],\"min_border\":0,\"plot_height\":250,\"plot_width\":250,\"renderers\":[{\"id\":\"bfc971b8-4705-43a9-9a00-c8d0eed029e8\",\"type\":\"LinearAxis\"},{\"id\":\"f159bfe2-89bd-4c2f-bca3-e1ec04b0d4e0\",\"type\":\"Grid\"},{\"id\":\"8823abd2-120a-4f53-8685-27bb347996bb\",\"type\":\"LinearAxis\"},{\"id\":\"b4328f5f-9a89-408b-93fd-ff11a87c9905\",\"type\":\"Grid\"},{\"id\":\"ea167d8b-d51d-46e3-96ca-c82c0a20f527\",\"type\":\"BoxAnnotation\"},{\"id\":\"1ddded9f-6499-469d-945e-275189aec492\",\"type\":\"GlyphRenderer\"}],\"title\":{\"id\":\"cc86a4b4-f4a5-4114-ab36-a9ebedd6f517\",\"type\":\"Title\"},\"toolbar\":{\"id\":\"40a605fd-b61b-48c3-9154-87fe626afb0a\",\"type\":\"Toolbar\"},\"x_range\":{\"id\":\"f6fcc2ea-e965-4290-9ac1-83dfe4edcbbd\",\"type\":\"DataRange1d\"},\"x_scale\":{\"id\":\"b85fbf7c-6351-4d7c-9d10-8f5c221a196b\",\"type\":\"LinearScale\"},\"y_range\":{\"id\":\"54ee00d5-dce7-415a-aa94-de8e1e956288\",\"type\":\"DataRange1d\"},\"y_scale\":{\"id\":\"fed5638e-d30a-40d9-add2-bfecab788055\",\"type\":\"LinearScale\"}},\"id\":\"0c53bee0-21fd-43a4-908c-9106af4669d3\",\"subtype\":\"Figure\",\"type\":\"Plot\"},{\"attributes\":{},\"id\":\"2726e208-8dfa-4202-98a2-f25690e0c74c\",\"type\":\"PanTool\"},{\"attributes\":{\"fill_alpha\":{\"value\":0.1},\"fill_color\":{\"value\":\"#1f77b4\"},\"line_alpha\":{\"value\":0.1},\"line_color\":{\"value\":\"#1f77b4\"},\"size\":{\"units\":\"screen\",\"value\":20},\"x\":{\"field\":\"x\"},\"y\":{\"field\":\"y\"}},\"id\":\"c21b8682-9b35-428a-9a3d-266494b44953\",\"type\":\"Circle\"},{\"attributes\":{},\"id\":\"b85fbf7c-6351-4d7c-9d10-8f5c221a196b\",\"type\":\"LinearScale\"},{\"attributes\":{},\"id\":\"442c2d8c-02f8-4f70-90d6-e3cd56d1efd9\",\"type\":\"HelpTool\"},{\"attributes\":{},\"id\":\"36b1eb2a-ccc8-4eb2-92ed-66cd7eabe85d\",\"type\":\"WheelZoomTool\"},{\"attributes\":{},\"id\":\"2bb5bfa0-fb6e-4324-ba43-37310b258f75\",\"type\":\"BasicTickFormatter\"},{\"attributes\":{\"overlay\":{\"id\":\"4b6bbf3b-4626-4748-ab39-0525ece2b0a5\",\"type\":\"BoxAnnotation\"}},\"id\":\"e2ea140e-f5c1-43ed-a84a-7787b03b3c56\",\"type\":\"BoxZoomTool\"},{\"attributes\":{},\"id\":\"b06568c3-0764-4518-b279-eb53d8cf46e9\",\"type\":\"SaveTool\"},{\"attributes\":{},\"id\":\"7f9eb7e4-fbda-4b47-b253-06691c611af1\",\"type\":\"ResetTool\"}],\"root_ids\":[\"e1365968-666a-4d03-9442-d8727eae72cd\"]},\"title\":\"Bokeh Application\",\"version\":\"0.12.10\"}};\n",
       "    var render_items = [{\"docid\":\"03eb3763-ba80-4c27-b8a8-e7140b52852a\",\"elementid\":\"9eabb2a8-2ed5-4189-8659-765a9f752565\",\"modelid\":\"e1365968-666a-4d03-9442-d8727eae72cd\",\"notebook_comms_target\":\"82ad91ed-9009-404f-b4ac-bea69f0af527\"}];\n",
       "\n",
       "    root.Bokeh.embed.embed_items(docs_json, render_items);\n",
       "  }\n",
       "\n",
       "  if (root.Bokeh !== undefined) {\n",
       "    embed_document(root);\n",
       "  } else {\n",
       "    var attempts = 0;\n",
       "    var timer = setInterval(function(root) {\n",
       "      if (root.Bokeh !== undefined) {\n",
       "        embed_document(root);\n",
       "        clearInterval(timer);\n",
       "      }\n",
       "      attempts++;\n",
       "      if (attempts > 100) {\n",
       "        console.log(\"Bokeh: ERROR: Unable to embed document because BokehJS library is missing\")\n",
       "        clearInterval(timer);\n",
       "      }\n",
       "    }, 10, root)\n",
       "  }\n",
       "})(window);"
      ],
      "application/vnd.bokehjs_exec.v0+json": ""
     },
     "metadata": {
      "application/vnd.bokehjs_exec.v0+json": {
       "id": "e1365968-666a-4d03-9442-d8727eae72cd"
      }
     },
     "output_type": "display_data"
    }
   ],
   "source": [
    "opts = dict(plot_width=250, plot_height=250, min_border=0)\n",
    "p1 = figure(**opts)\n",
    "r1 = p1.circle([1,2,3], [4,5,6], size=20)\n",
    "\n",
    "p2 = figure(**opts)\n",
    "r2 = p2.circle([1,2,3], [4,5,6], size=20)\n",
    "\n",
    "# get a handle to update the shown cell with\n",
    "t = show(row(p1, p2), notebook_handle=True)"
   ]
  },
  {
   "cell_type": "code",
   "execution_count": 3,
   "metadata": {},
   "outputs": [
    {
     "data": {
      "text/html": [
       "<p><code>&lt;Bokeh Notebook handle for <strong>In[2]</strong>&gt;</code></p>"
      ],
      "text/plain": [
       "<bokeh.io.notebook.CommsHandle at 0x9bc7588>"
      ]
     },
     "execution_count": 3,
     "metadata": {},
     "output_type": "execute_result"
    }
   ],
   "source": [
    "\n",
    "# the comms handle repr show what cell it can be used to update\n",
    "t"
   ]
  },
  {
   "cell_type": "code",
   "execution_count": 4,
   "metadata": {
    "collapsed": true
   },
   "outputs": [],
   "source": [
    "# this will update the left plot circle color with an explicit handle\n",
    "r1.glyph.fill_color = \"white\"\n",
    "push_notebook(handle=t)"
   ]
  },
  {
   "cell_type": "code",
   "execution_count": 5,
   "metadata": {
    "collapsed": true
   },
   "outputs": [],
   "source": [
    "# and this will update the right plot circle color because it was in the last shown cell\n",
    "r2.glyph.fill_color = \"pink\"\n",
    "push_notebook()"
   ]
  },
  {
   "cell_type": "code",
   "execution_count": 6,
   "metadata": {},
   "outputs": [
    {
     "data": {
      "text/html": [
       "\n",
       "<div class=\"bk-root\">\n",
       "    <div class=\"bk-plotdiv\" id=\"18ff401b-db0a-4fc2-acd8-279beea3c3ca\"></div>\n",
       "</div>"
      ]
     },
     "metadata": {},
     "output_type": "display_data"
    },
    {
     "data": {
      "application/javascript": [
       "(function(root) {\n",
       "  function embed_document(root) {\n",
       "    var docs_json = {\"1550ae47-40a5-4e8e-8d65-96de1bf53b7e\":{\"roots\":{\"references\":[{\"attributes\":{\"bottom_units\":\"screen\",\"fill_alpha\":{\"value\":0.5},\"fill_color\":{\"value\":\"lightgrey\"},\"left_units\":\"screen\",\"level\":\"overlay\",\"line_alpha\":{\"value\":1.0},\"line_color\":{\"value\":\"black\"},\"line_dash\":[4,4],\"line_width\":{\"value\":2},\"plot\":null,\"render_mode\":\"css\",\"right_units\":\"screen\",\"top_units\":\"screen\"},\"id\":\"2c7833e0-8e0c-49d1-b88f-cf1c54e438f2\",\"type\":\"BoxAnnotation\"},{\"attributes\":{},\"id\":\"b37a60ee-189b-41cf-b83a-f33e5db9e991\",\"type\":\"PanTool\"},{\"attributes\":{\"fill_alpha\":{\"value\":0.1},\"fill_color\":{\"value\":\"#1f77b4\"},\"line_alpha\":{\"value\":0.1},\"line_color\":{\"value\":\"#1f77b4\"},\"size\":{\"units\":\"screen\",\"value\":20},\"x\":{\"field\":\"x\"},\"y\":{\"field\":\"y\"}},\"id\":\"53194050-5728-4ca9-9b7d-ddbf5f7e2291\",\"type\":\"Circle\"},{\"attributes\":{\"callback\":null,\"column_names\":[\"x\",\"y\"],\"data\":{\"x\":[1,2,3],\"y\":[4,5,6]}},\"id\":\"736aa4b9-f007-4483-bd36-cbe71c61fa00\",\"type\":\"ColumnDataSource\"},{\"attributes\":{},\"id\":\"b26c433e-c072-4b83-a8d2-075844a43ae7\",\"type\":\"WheelZoomTool\"},{\"attributes\":{\"below\":[{\"id\":\"9b37741e-fcca-4094-8092-a4cdf54d91a0\",\"type\":\"LinearAxis\"}],\"left\":[{\"id\":\"6d901283-727c-465a-94a2-c538895c30f4\",\"type\":\"LinearAxis\"}],\"min_border\":0,\"plot_height\":250,\"plot_width\":250,\"renderers\":[{\"id\":\"9b37741e-fcca-4094-8092-a4cdf54d91a0\",\"type\":\"LinearAxis\"},{\"id\":\"b4f64523-759e-4e6e-a42d-a8008f290f4f\",\"type\":\"Grid\"},{\"id\":\"6d901283-727c-465a-94a2-c538895c30f4\",\"type\":\"LinearAxis\"},{\"id\":\"a6c51096-f517-405a-ad87-f50c43567dc5\",\"type\":\"Grid\"},{\"id\":\"2c7833e0-8e0c-49d1-b88f-cf1c54e438f2\",\"type\":\"BoxAnnotation\"},{\"id\":\"309b732e-2349-479b-b92f-e61f56ee9885\",\"type\":\"GlyphRenderer\"}],\"title\":{\"id\":\"2ec34365-1ab6-449b-833a-ba73e0459db8\",\"type\":\"Title\"},\"toolbar\":{\"id\":\"40361fcf-248e-4c04-aa25-482f99b52ccf\",\"type\":\"Toolbar\"},\"x_range\":{\"id\":\"bd42d768-d2ad-4477-8174-f45270d80508\",\"type\":\"DataRange1d\"},\"x_scale\":{\"id\":\"f9b7a0e7-46e0-4f5f-a72f-ef2e5bcb298a\",\"type\":\"LinearScale\"},\"y_range\":{\"id\":\"d28cfd51-cc60-420c-b7c4-9541811721bc\",\"type\":\"DataRange1d\"},\"y_scale\":{\"id\":\"d3fca12d-5632-4c92-97a3-b638e24cbc7b\",\"type\":\"LinearScale\"}},\"id\":\"193ff33b-1c21-4284-9380-b57ae4194cb9\",\"subtype\":\"Figure\",\"type\":\"Plot\"},{\"attributes\":{\"overlay\":{\"id\":\"2c7833e0-8e0c-49d1-b88f-cf1c54e438f2\",\"type\":\"BoxAnnotation\"}},\"id\":\"3771240d-02e9-4f20-8f27-bf1ce2479fb9\",\"type\":\"BoxZoomTool\"},{\"attributes\":{},\"id\":\"425d7ffb-54ef-4b90-a063-00beb2ad35db\",\"type\":\"BasicTickFormatter\"},{\"attributes\":{},\"id\":\"3855dfa8-e958-40ef-85f9-33667a18ed84\",\"type\":\"SaveTool\"},{\"attributes\":{\"active_drag\":\"auto\",\"active_inspect\":\"auto\",\"active_scroll\":\"auto\",\"active_tap\":\"auto\",\"tools\":[{\"id\":\"b37a60ee-189b-41cf-b83a-f33e5db9e991\",\"type\":\"PanTool\"},{\"id\":\"b26c433e-c072-4b83-a8d2-075844a43ae7\",\"type\":\"WheelZoomTool\"},{\"id\":\"3771240d-02e9-4f20-8f27-bf1ce2479fb9\",\"type\":\"BoxZoomTool\"},{\"id\":\"3855dfa8-e958-40ef-85f9-33667a18ed84\",\"type\":\"SaveTool\"},{\"id\":\"0131f5b2-51b3-4fd2-a5dd-135a91289b19\",\"type\":\"ResetTool\"},{\"id\":\"a6ec7f4c-6482-4df5-9fb2-dd9831ffb475\",\"type\":\"HelpTool\"}]},\"id\":\"40361fcf-248e-4c04-aa25-482f99b52ccf\",\"type\":\"Toolbar\"},{\"attributes\":{},\"id\":\"0131f5b2-51b3-4fd2-a5dd-135a91289b19\",\"type\":\"ResetTool\"},{\"attributes\":{},\"id\":\"a6ec7f4c-6482-4df5-9fb2-dd9831ffb475\",\"type\":\"HelpTool\"},{\"attributes\":{},\"id\":\"f9b7a0e7-46e0-4f5f-a72f-ef2e5bcb298a\",\"type\":\"LinearScale\"},{\"attributes\":{},\"id\":\"d3fca12d-5632-4c92-97a3-b638e24cbc7b\",\"type\":\"LinearScale\"},{\"attributes\":{\"data_source\":{\"id\":\"736aa4b9-f007-4483-bd36-cbe71c61fa00\",\"type\":\"ColumnDataSource\"},\"glyph\":{\"id\":\"b37e4f41-1ac0-4744-83a5-6f91b3bf12e4\",\"type\":\"Circle\"},\"hover_glyph\":null,\"muted_glyph\":null,\"nonselection_glyph\":{\"id\":\"53194050-5728-4ca9-9b7d-ddbf5f7e2291\",\"type\":\"Circle\"},\"selection_glyph\":null,\"view\":{\"id\":\"aa2e6405-a1dd-4e83-8fe0-21b68211cb14\",\"type\":\"CDSView\"}},\"id\":\"309b732e-2349-479b-b92f-e61f56ee9885\",\"type\":\"GlyphRenderer\"},{\"attributes\":{\"plot\":{\"id\":\"193ff33b-1c21-4284-9380-b57ae4194cb9\",\"subtype\":\"Figure\",\"type\":\"Plot\"},\"ticker\":{\"id\":\"6cc413c7-6b42-4c69-8570-3cf23eecda48\",\"type\":\"BasicTicker\"}},\"id\":\"b4f64523-759e-4e6e-a42d-a8008f290f4f\",\"type\":\"Grid\"},{\"attributes\":{\"source\":{\"id\":\"736aa4b9-f007-4483-bd36-cbe71c61fa00\",\"type\":\"ColumnDataSource\"}},\"id\":\"aa2e6405-a1dd-4e83-8fe0-21b68211cb14\",\"type\":\"CDSView\"},{\"attributes\":{\"formatter\":{\"id\":\"425d7ffb-54ef-4b90-a063-00beb2ad35db\",\"type\":\"BasicTickFormatter\"},\"plot\":{\"id\":\"193ff33b-1c21-4284-9380-b57ae4194cb9\",\"subtype\":\"Figure\",\"type\":\"Plot\"},\"ticker\":{\"id\":\"6cc413c7-6b42-4c69-8570-3cf23eecda48\",\"type\":\"BasicTicker\"}},\"id\":\"9b37741e-fcca-4094-8092-a4cdf54d91a0\",\"type\":\"LinearAxis\"},{\"attributes\":{\"plot\":null,\"text\":\"\"},\"id\":\"2ec34365-1ab6-449b-833a-ba73e0459db8\",\"type\":\"Title\"},{\"attributes\":{},\"id\":\"6cc413c7-6b42-4c69-8570-3cf23eecda48\",\"type\":\"BasicTicker\"},{\"attributes\":{\"callback\":null},\"id\":\"bd42d768-d2ad-4477-8174-f45270d80508\",\"type\":\"DataRange1d\"},{\"attributes\":{\"formatter\":{\"id\":\"a07dd6b9-15fc-4b6f-9537-d9f934e9876b\",\"type\":\"BasicTickFormatter\"},\"plot\":{\"id\":\"193ff33b-1c21-4284-9380-b57ae4194cb9\",\"subtype\":\"Figure\",\"type\":\"Plot\"},\"ticker\":{\"id\":\"73a7e8b7-d6e8-4786-b113-14f8f5127629\",\"type\":\"BasicTicker\"}},\"id\":\"6d901283-727c-465a-94a2-c538895c30f4\",\"type\":\"LinearAxis\"},{\"attributes\":{\"callback\":null},\"id\":\"d28cfd51-cc60-420c-b7c4-9541811721bc\",\"type\":\"DataRange1d\"},{\"attributes\":{},\"id\":\"73a7e8b7-d6e8-4786-b113-14f8f5127629\",\"type\":\"BasicTicker\"},{\"attributes\":{},\"id\":\"a07dd6b9-15fc-4b6f-9537-d9f934e9876b\",\"type\":\"BasicTickFormatter\"},{\"attributes\":{\"dimension\":1,\"plot\":{\"id\":\"193ff33b-1c21-4284-9380-b57ae4194cb9\",\"subtype\":\"Figure\",\"type\":\"Plot\"},\"ticker\":{\"id\":\"73a7e8b7-d6e8-4786-b113-14f8f5127629\",\"type\":\"BasicTicker\"}},\"id\":\"a6c51096-f517-405a-ad87-f50c43567dc5\",\"type\":\"Grid\"},{\"attributes\":{\"fill_color\":{\"value\":\"#1f77b4\"},\"line_color\":{\"value\":\"#1f77b4\"},\"size\":{\"units\":\"screen\",\"value\":20},\"x\":{\"field\":\"x\"},\"y\":{\"field\":\"y\"}},\"id\":\"b37e4f41-1ac0-4744-83a5-6f91b3bf12e4\",\"type\":\"Circle\"}],\"root_ids\":[\"193ff33b-1c21-4284-9380-b57ae4194cb9\"]},\"title\":\"Bokeh Application\",\"version\":\"0.12.10\"}};\n",
       "    var render_items = [{\"docid\":\"1550ae47-40a5-4e8e-8d65-96de1bf53b7e\",\"elementid\":\"18ff401b-db0a-4fc2-acd8-279beea3c3ca\",\"modelid\":\"193ff33b-1c21-4284-9380-b57ae4194cb9\",\"notebook_comms_target\":\"a1034950-2e1e-473f-a570-57fef5552bfc\"}];\n",
       "\n",
       "    root.Bokeh.embed.embed_items(docs_json, render_items);\n",
       "  }\n",
       "\n",
       "  if (root.Bokeh !== undefined) {\n",
       "    embed_document(root);\n",
       "  } else {\n",
       "    var attempts = 0;\n",
       "    var timer = setInterval(function(root) {\n",
       "      if (root.Bokeh !== undefined) {\n",
       "        embed_document(root);\n",
       "        clearInterval(timer);\n",
       "      }\n",
       "      attempts++;\n",
       "      if (attempts > 100) {\n",
       "        console.log(\"Bokeh: ERROR: Unable to embed document because BokehJS library is missing\")\n",
       "        clearInterval(timer);\n",
       "      }\n",
       "    }, 10, root)\n",
       "  }\n",
       "})(window);"
      ],
      "application/vnd.bokehjs_exec.v0+json": ""
     },
     "metadata": {
      "application/vnd.bokehjs_exec.v0+json": {
       "id": "193ff33b-1c21-4284-9380-b57ae4194cb9"
      }
     },
     "output_type": "display_data"
    }
   ],
   "source": [
    "p3 = figure(**opts)\n",
    "r3 = p3.circle([1,2,3], [4,5,6], size=20)\n",
    "\n",
    "# get a handle to update the shown cell with\n",
    "t2 = show(p3, notebook_handle=True)"
   ]
  },
  {
   "cell_type": "code",
   "execution_count": 7,
   "metadata": {},
   "outputs": [
    {
     "data": {
      "text/html": [
       "<p><code>&lt;Bokeh Notebook handle for <strong>In[6]</strong>&gt;</code></p>"
      ],
      "text/plain": [
       "<bokeh.io.notebook.CommsHandle at 0x9c189b0>"
      ]
     },
     "execution_count": 7,
     "metadata": {},
     "output_type": "execute_result"
    }
   ],
   "source": [
    "# show which cell t2 handles\n",
    "t2"
   ]
  },
  {
   "cell_type": "code",
   "execution_count": 8,
   "metadata": {
    "collapsed": true
   },
   "outputs": [],
   "source": [
    "# this updates the immediately previous cell with an explicit handle\n",
    "r3.glyph.fill_color = \"orange\"\n",
    "push_notebook(handle=t2)"
   ]
  },
  {
   "cell_type": "code",
   "execution_count": 9,
   "metadata": {
    "collapsed": true
   },
   "outputs": [],
   "source": [
    "# this updates the left plot at the top with an explicit handle\n",
    "r1.glyph.fill_color = \"orange\"\n",
    "push_notebook(handle=t)"
   ]
  },
  {
   "cell_type": "code",
   "execution_count": 10,
   "metadata": {},
   "outputs": [
    {
     "data": {
      "text/html": [
       "\n",
       "<div class=\"bk-root\">\n",
       "    <div class=\"bk-plotdiv\" id=\"a56762de-ee9f-401a-9f58-3ac8bd318b7e\"></div>\n",
       "</div>"
      ]
     },
     "metadata": {},
     "output_type": "display_data"
    },
    {
     "data": {
      "application/javascript": [
       "(function(root) {\n",
       "  function embed_document(root) {\n",
       "    var docs_json = {\"a8692cf1-fe00-445b-acaa-c62c87499d2d\":{\"roots\":{\"references\":[{\"attributes\":{},\"id\":\"ee916140-bd26-4d31-88ce-2d5327080dfd\",\"type\":\"PanTool\"},{\"attributes\":{\"source\":{\"id\":\"e447afcf-d386-4d07-bbd5-c09ae2eeee03\",\"type\":\"ColumnDataSource\"}},\"id\":\"0d18d257-5c5c-418d-b34d-869911428bbb\",\"type\":\"CDSView\"},{\"attributes\":{},\"id\":\"bfcfb0e2-453e-4ea2-a990-decc9eceebad\",\"type\":\"WheelZoomTool\"},{\"attributes\":{\"active_drag\":\"auto\",\"active_inspect\":\"auto\",\"active_scroll\":\"auto\",\"active_tap\":\"auto\",\"tools\":[{\"id\":\"ee916140-bd26-4d31-88ce-2d5327080dfd\",\"type\":\"PanTool\"},{\"id\":\"bfcfb0e2-453e-4ea2-a990-decc9eceebad\",\"type\":\"WheelZoomTool\"},{\"id\":\"7d9091b0-ccbc-428e-abbf-14e447c153c5\",\"type\":\"BoxZoomTool\"},{\"id\":\"1cb32927-dbf1-4517-9725-10b647a3aa9a\",\"type\":\"SaveTool\"},{\"id\":\"82c678c9-db14-43f6-b33a-79b0959414ab\",\"type\":\"ResetTool\"},{\"id\":\"f54f9f76-a6e4-4d03-af25-f13888004fd5\",\"type\":\"HelpTool\"}]},\"id\":\"40a605fd-b61b-48c3-9154-87fe626afb0a\",\"type\":\"Toolbar\"},{\"attributes\":{\"overlay\":{\"id\":\"ea167d8b-d51d-46e3-96ca-c82c0a20f527\",\"type\":\"BoxAnnotation\"}},\"id\":\"7d9091b0-ccbc-428e-abbf-14e447c153c5\",\"type\":\"BoxZoomTool\"},{\"attributes\":{\"formatter\":{\"id\":\"160dcb53-dcdb-4192-8d2c-3636b2aba913\",\"type\":\"BasicTickFormatter\"},\"plot\":{\"id\":\"0c53bee0-21fd-43a4-908c-9106af4669d3\",\"subtype\":\"Figure\",\"type\":\"Plot\"},\"ticker\":{\"id\":\"d457dd11-8e53-4c00-aa5e-e653bc140acd\",\"type\":\"BasicTicker\"}},\"id\":\"bfc971b8-4705-43a9-9a00-c8d0eed029e8\",\"type\":\"LinearAxis\"},{\"attributes\":{},\"id\":\"1cb32927-dbf1-4517-9725-10b647a3aa9a\",\"type\":\"SaveTool\"},{\"attributes\":{},\"id\":\"d457dd11-8e53-4c00-aa5e-e653bc140acd\",\"type\":\"BasicTicker\"},{\"attributes\":{},\"id\":\"82c678c9-db14-43f6-b33a-79b0959414ab\",\"type\":\"ResetTool\"},{\"attributes\":{},\"id\":\"f54f9f76-a6e4-4d03-af25-f13888004fd5\",\"type\":\"HelpTool\"},{\"attributes\":{\"plot\":{\"id\":\"0c53bee0-21fd-43a4-908c-9106af4669d3\",\"subtype\":\"Figure\",\"type\":\"Plot\"},\"ticker\":{\"id\":\"d457dd11-8e53-4c00-aa5e-e653bc140acd\",\"type\":\"BasicTicker\"}},\"id\":\"f159bfe2-89bd-4c2f-bca3-e1ec04b0d4e0\",\"type\":\"Grid\"},{\"attributes\":{},\"id\":\"160dcb53-dcdb-4192-8d2c-3636b2aba913\",\"type\":\"BasicTickFormatter\"},{\"attributes\":{\"callback\":null},\"id\":\"54ee00d5-dce7-415a-aa94-de8e1e956288\",\"type\":\"DataRange1d\"},{\"attributes\":{},\"id\":\"fed5638e-d30a-40d9-add2-bfecab788055\",\"type\":\"LinearScale\"},{\"attributes\":{\"data_source\":{\"id\":\"e447afcf-d386-4d07-bbd5-c09ae2eeee03\",\"type\":\"ColumnDataSource\"},\"glyph\":{\"id\":\"fa7d0e17-c5dc-41a5-bd78-606e4a3b27c4\",\"type\":\"Circle\"},\"hover_glyph\":null,\"muted_glyph\":null,\"nonselection_glyph\":{\"id\":\"da85f191-04fe-4136-a1c3-8563cbf4b51a\",\"type\":\"Circle\"},\"selection_glyph\":null,\"view\":{\"id\":\"0d18d257-5c5c-418d-b34d-869911428bbb\",\"type\":\"CDSView\"}},\"id\":\"1ddded9f-6499-469d-945e-275189aec492\",\"type\":\"GlyphRenderer\"},{\"attributes\":{\"plot\":null,\"text\":\"\"},\"id\":\"cc86a4b4-f4a5-4114-ab36-a9ebedd6f517\",\"type\":\"Title\"},{\"attributes\":{\"callback\":null},\"id\":\"f6fcc2ea-e965-4290-9ac1-83dfe4edcbbd\",\"type\":\"DataRange1d\"},{\"attributes\":{\"fill_color\":{\"value\":\"pink\"},\"line_color\":{\"value\":\"#1f77b4\"},\"size\":{\"units\":\"screen\",\"value\":20},\"x\":{\"field\":\"x\"},\"y\":{\"field\":\"y\"}},\"id\":\"fa7d0e17-c5dc-41a5-bd78-606e4a3b27c4\",\"type\":\"Circle\"},{\"attributes\":{\"formatter\":{\"id\":\"2bb5bfa0-fb6e-4324-ba43-37310b258f75\",\"type\":\"BasicTickFormatter\"},\"plot\":{\"id\":\"0c53bee0-21fd-43a4-908c-9106af4669d3\",\"subtype\":\"Figure\",\"type\":\"Plot\"},\"ticker\":{\"id\":\"3ff37a70-ba9f-4d22-8ef5-c16aeb12a1f8\",\"type\":\"BasicTicker\"}},\"id\":\"8823abd2-120a-4f53-8685-27bb347996bb\",\"type\":\"LinearAxis\"},{\"attributes\":{\"below\":[{\"id\":\"bfc971b8-4705-43a9-9a00-c8d0eed029e8\",\"type\":\"LinearAxis\"}],\"left\":[{\"id\":\"8823abd2-120a-4f53-8685-27bb347996bb\",\"type\":\"LinearAxis\"}],\"min_border\":0,\"plot_height\":250,\"plot_width\":250,\"renderers\":[{\"id\":\"bfc971b8-4705-43a9-9a00-c8d0eed029e8\",\"type\":\"LinearAxis\"},{\"id\":\"f159bfe2-89bd-4c2f-bca3-e1ec04b0d4e0\",\"type\":\"Grid\"},{\"id\":\"8823abd2-120a-4f53-8685-27bb347996bb\",\"type\":\"LinearAxis\"},{\"id\":\"b4328f5f-9a89-408b-93fd-ff11a87c9905\",\"type\":\"Grid\"},{\"id\":\"ea167d8b-d51d-46e3-96ca-c82c0a20f527\",\"type\":\"BoxAnnotation\"},{\"id\":\"1ddded9f-6499-469d-945e-275189aec492\",\"type\":\"GlyphRenderer\"}],\"title\":{\"id\":\"cc86a4b4-f4a5-4114-ab36-a9ebedd6f517\",\"type\":\"Title\"},\"toolbar\":{\"id\":\"40a605fd-b61b-48c3-9154-87fe626afb0a\",\"type\":\"Toolbar\"},\"x_range\":{\"id\":\"f6fcc2ea-e965-4290-9ac1-83dfe4edcbbd\",\"type\":\"DataRange1d\"},\"x_scale\":{\"id\":\"b85fbf7c-6351-4d7c-9d10-8f5c221a196b\",\"type\":\"LinearScale\"},\"y_range\":{\"id\":\"54ee00d5-dce7-415a-aa94-de8e1e956288\",\"type\":\"DataRange1d\"},\"y_scale\":{\"id\":\"fed5638e-d30a-40d9-add2-bfecab788055\",\"type\":\"LinearScale\"}},\"id\":\"0c53bee0-21fd-43a4-908c-9106af4669d3\",\"subtype\":\"Figure\",\"type\":\"Plot\"},{\"attributes\":{},\"id\":\"3ff37a70-ba9f-4d22-8ef5-c16aeb12a1f8\",\"type\":\"BasicTicker\"},{\"attributes\":{\"dimension\":1,\"plot\":{\"id\":\"0c53bee0-21fd-43a4-908c-9106af4669d3\",\"subtype\":\"Figure\",\"type\":\"Plot\"},\"ticker\":{\"id\":\"3ff37a70-ba9f-4d22-8ef5-c16aeb12a1f8\",\"type\":\"BasicTicker\"}},\"id\":\"b4328f5f-9a89-408b-93fd-ff11a87c9905\",\"type\":\"Grid\"},{\"attributes\":{},\"id\":\"b85fbf7c-6351-4d7c-9d10-8f5c221a196b\",\"type\":\"LinearScale\"},{\"attributes\":{\"callback\":null,\"column_names\":[\"x\",\"y\"],\"data\":{\"x\":[1,2,3],\"y\":[4,5,6]}},\"id\":\"e447afcf-d386-4d07-bbd5-c09ae2eeee03\",\"type\":\"ColumnDataSource\"},{\"attributes\":{\"fill_alpha\":{\"value\":0.1},\"fill_color\":{\"value\":\"#1f77b4\"},\"line_alpha\":{\"value\":0.1},\"line_color\":{\"value\":\"#1f77b4\"},\"size\":{\"units\":\"screen\",\"value\":20},\"x\":{\"field\":\"x\"},\"y\":{\"field\":\"y\"}},\"id\":\"da85f191-04fe-4136-a1c3-8563cbf4b51a\",\"type\":\"Circle\"},{\"attributes\":{},\"id\":\"2bb5bfa0-fb6e-4324-ba43-37310b258f75\",\"type\":\"BasicTickFormatter\"},{\"attributes\":{\"bottom_units\":\"screen\",\"fill_alpha\":{\"value\":0.5},\"fill_color\":{\"value\":\"lightgrey\"},\"left_units\":\"screen\",\"level\":\"overlay\",\"line_alpha\":{\"value\":1.0},\"line_color\":{\"value\":\"black\"},\"line_dash\":[4,4],\"line_width\":{\"value\":2},\"plot\":null,\"render_mode\":\"css\",\"right_units\":\"screen\",\"top_units\":\"screen\"},\"id\":\"ea167d8b-d51d-46e3-96ca-c82c0a20f527\",\"type\":\"BoxAnnotation\"}],\"root_ids\":[\"0c53bee0-21fd-43a4-908c-9106af4669d3\"]},\"title\":\"Bokeh Application\",\"version\":\"0.12.10\"}};\n",
       "    var render_items = [{\"docid\":\"a8692cf1-fe00-445b-acaa-c62c87499d2d\",\"elementid\":\"a56762de-ee9f-401a-9f58-3ac8bd318b7e\",\"modelid\":\"0c53bee0-21fd-43a4-908c-9106af4669d3\",\"notebook_comms_target\":\"0b97c8fe-963c-4c28-9c21-da15500639ca\"}];\n",
       "\n",
       "    root.Bokeh.embed.embed_items(docs_json, render_items);\n",
       "  }\n",
       "\n",
       "  if (root.Bokeh !== undefined) {\n",
       "    embed_document(root);\n",
       "  } else {\n",
       "    var attempts = 0;\n",
       "    var timer = setInterval(function(root) {\n",
       "      if (root.Bokeh !== undefined) {\n",
       "        embed_document(root);\n",
       "        clearInterval(timer);\n",
       "      }\n",
       "      attempts++;\n",
       "      if (attempts > 100) {\n",
       "        console.log(\"Bokeh: ERROR: Unable to embed document because BokehJS library is missing\")\n",
       "        clearInterval(timer);\n",
       "      }\n",
       "    }, 10, root)\n",
       "  }\n",
       "})(window);"
      ],
      "application/vnd.bokehjs_exec.v0+json": ""
     },
     "metadata": {
      "application/vnd.bokehjs_exec.v0+json": {
       "id": "0c53bee0-21fd-43a4-908c-9106af4669d3"
      }
     },
     "output_type": "display_data"
    }
   ],
   "source": [
    "# get a handle to update the shown cell with\n",
    "t3 = show(p2, notebook_handle=True)"
   ]
  },
  {
   "cell_type": "code",
   "execution_count": 11,
   "metadata": {
    "collapsed": true
   },
   "outputs": [],
   "source": [
    "# this will update the immediately previous plot circle color because it was in the last shown cell\n",
    "r2.glyph.fill_color = \"red\"\n",
    "push_notebook()"
   ]
  },
  {
   "cell_type": "code",
   "execution_count": 12,
   "metadata": {
    "collapsed": true
   },
   "outputs": [],
   "source": [
    "# this will update the immediately previous plot circle color with an explicit handle\n",
    "r2.glyph.fill_color = \"blue\"\n",
    "push_notebook(handle=t3)"
   ]
  },
  {
   "cell_type": "code",
   "execution_count": null,
   "metadata": {
    "collapsed": true
   },
   "outputs": [],
   "source": []
  }
 ],
 "metadata": {
  "kernelspec": {
   "display_name": "Python 3",
   "language": "python",
   "name": "python3"
  },
  "language_info": {
   "codemirror_mode": {
    "name": "ipython",
    "version": 3
   },
   "file_extension": ".py",
   "mimetype": "text/x-python",
   "name": "python",
   "nbconvert_exporter": "python",
   "pygments_lexer": "ipython3",
   "version": "3.6.3"
  }
 },
 "nbformat": 4,
 "nbformat_minor": 2
}

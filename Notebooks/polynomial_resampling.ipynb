{
 "cells": [
  {
   "cell_type": "raw",
   "metadata": {},
   "source": [
    "<script>\n",
    "  function code_toggle() {\n",
    "    if (code_shown){\n",
    "      $('div.input').hide('500');\n",
    "      $('#toggleButton').val('Show Code')\n",
    "    } else {\n",
    "      $('div.input').show('500');\n",
    "      $('#toggleButton').val('Hide Code')\n",
    "    }\n",
    "    code_shown = !code_shown\n",
    "  }\n",
    "\n",
    "  $( document ).ready(function(){\n",
    "    code_shown=false;\n",
    "    $('div.input').hide()\n",
    "  });\n",
    "</script>\n",
    "<form action=\"javascript:code_toggle()\"><input type=\"submit\" id=\"toggleButton\" value=\"Show Code\"></form>"
   ]
  },
  {
   "cell_type": "markdown",
   "metadata": {},
   "source": [
    "# Polynomial Resampling"
   ]
  },
  {
   "cell_type": "markdown",
   "metadata": {},
   "source": [
    "## Exploring algorithms for real-time resampling/interpolation of sensor-data."
   ]
  },
  {
   "cell_type": "markdown",
   "metadata": {},
   "source": [
    "As opposed to batchwise resampling, where you have the entire time-series with many datapoints available to recreate the signal, we are assuming that we only have a short sliding window of datapoint. This is a result of having the resampling algorithm be highly performant, and also of having to resample in real-time on an incoming stream of data.\n",
    "\n",
    "We are also assuming that the incoming data is non-uniform in the sense that the data is not coming at specified regular interval. Some of the data might also be missing at the time when resampling has to be performed.\n",
    "\n",
    "This document will explore some of the possibilities and options for resampling by fitting the datapoints with piecewise polynomial interpolation functions."
   ]
  },
  {
   "cell_type": "markdown",
   "metadata": {},
   "source": [
    "### Choosing the Polynomial Degree"
   ]
  },
  {
   "cell_type": "markdown",
   "metadata": {},
   "source": [
    "A linear fit between datapoints is the simplest solution to implement. And one that requires the least amount of data to perform. All that is needed are two points to interpolate between. As the degree of the polynomial increases more data is required, as the polynomial has free parameters that must be determined. But, higher polynomial degree also yields better fitting curves with smoother transitions between segments of the piecewise interpolation.\n",
    "\n",
    "We argue that cubic polynomials are the best choice as this is the smallest polynomial degree which allows one to not only align the points, but also align the first derivates resulting in smooth transisition from one polynomial piece to another."
   ]
  },
  {
   "cell_type": "code",
   "execution_count": 97,
   "metadata": {},
   "outputs": [
    {
     "data": {
      "text/html": [
       "\n",
       "    <div class=\"bk-root\">\n",
       "        <a href=\"https://bokeh.pydata.org\" target=\"_blank\" class=\"bk-logo bk-logo-small bk-logo-notebook\"></a>\n",
       "        <span id=\"5fbdaa44-faec-4aec-b06a-35773d1b1e20\">Loading BokehJS ...</span>\n",
       "    </div>"
      ]
     },
     "metadata": {},
     "output_type": "execute_result"
    },
    {
     "data": {},
     "metadata": {},
     "output_type": "display_data"
    },
    {
     "data": {
      "text/html": [
       "\n",
       "<script\n",
       "    src=\"http://localhost:53581/autoload.js?bokeh-autoload-element=9a158c93-970d-41c5-b3a5-6e2211dba448&bokeh-absolute-url=http://localhost:53581\"\n",
       "    id=\"9a158c93-970d-41c5-b3a5-6e2211dba448\"\n",
       "    data-bokeh-model-id=\"\"\n",
       "    data-bokeh-doc-id=\"\"\n",
       "></script>"
      ]
     },
     "metadata": {
      "application/vnd.bokehjs_exec.v0+json": {
       "server_id": "fd44e575cc3747d38a86e124dc56b16b"
      }
     },
     "output_type": "execute_result"
    }
   ],
   "source": [
    "import numpy as np\n",
    "\n",
    "from ipywidgets import interact\n",
    "from bokeh.io import push_notebook, show, output_notebook\n",
    "from bokeh.plotting import figure\n",
    "from bokeh.models.widgets import Slider\n",
    "from bokeh.layouts import row, widgetbox\n",
    "from bokeh.application.handlers import FunctionHandler\n",
    "from bokeh.application import Application\n",
    "\n",
    "output_notebook()\n",
    "\n",
    "\n",
    "def modify_doc(doc):\n",
    "   \n",
    "\n",
    "    # Create the main plot\n",
    "    def create_figure():\n",
    "        # Set up data\n",
    "        t_in = np.array([0., 1.])\n",
    "        f_in = np.array([2., 3.])\n",
    "        diff_in = np.array([0., 0.])\n",
    "\n",
    "        # cubic polynomialS\n",
    "        polyDeg = 3\n",
    "\n",
    "        A = np.zeros([polyDeg + 1, polyDeg + 1])\n",
    "        for i in np.arange(0, polyDeg + 1):\n",
    "            A[[0, 1], i] = np.power(t_in, polyDeg - i)\n",
    "\n",
    "        A[2, :] = np.array([3 * np.square(t_in[0]), 2 * t_in[0], 1, 0])\n",
    "        A[3, :] = np.array([3 * np.square(t_in[1]), 2 * t_in[1], 1, 0])\n",
    "\n",
    "        t = np.arange(0, 1, 0.01)\n",
    "\n",
    "        # Get data\n",
    "        f_in[0] = f1_slider.value\n",
    "        f_in[1] = f2_slider.value\n",
    "\n",
    "        diff_in[0] = diff1_slider.value\n",
    "        diff_in[1] = diff2_slider.value\n",
    "\n",
    "        # Calculate polynomial\n",
    "        cubicParams = np.dot(np.linalg.inv(A), np.append(f_in, diff_in))\n",
    "        y = np.polyval(cubicParams, t)\n",
    "        \n",
    "        # Caluclate linear diffs\n",
    "        t1 = t_in[0];\n",
    "        f1 = f_in[0];\n",
    "        d1 = diff_in[0];\n",
    "        l1 = 0.2*np.cos(np.arctan(d1))\n",
    "        \n",
    "        t1vec = np.arange(t1-l1,t1+l1, 0.01)\n",
    "        y1vec = f1 + d1*(t1vec-t1)\n",
    "        \n",
    "        t2 = t_in[1];\n",
    "        f2 = f_in[1];\n",
    "        d2 = diff_in[1];\n",
    "        l2 = 0.2*np.cos(np.arctan(d2))\n",
    "        \n",
    "        t2vec = np.arange(t2-l2,t2+l2, 0.01)\n",
    "        y2vec = f2 + d2*(t2vec-t2)\n",
    "\n",
    "        # Set up Plot\n",
    "        plot = figure(plot_width=400, plot_height=400, x_range=[-0.3,1.3], y_range=[0.7,4.3])\n",
    "        plot.line(t, y, line_width=1, color=\"blue\")\n",
    "        plot.circle(t_in, f_in, size=8, fill_color=\"white\")\n",
    "        \n",
    "        plot.line(t1vec, y1vec, color=\"red\", line_dash=\"dotted\")\n",
    "        plot.line(t2vec, y2vec, color=\"red\", line_dash=\"dotted\")\n",
    "            \n",
    "        return plot\n",
    "\n",
    "\n",
    "    # Update the plot\n",
    "    def update(att, old, new):\n",
    "        f_in = [f1_slider.value, f2_slider.value]\n",
    "        layout.children[1] = create_figure()\n",
    "\n",
    "    # Controls\n",
    "    f1_slider = Slider(start=1, end=4, value=2, step=0.01, title=\"f(0)\")\n",
    "    f2_slider = Slider(start=1, end=4, value=3, step=0.01, title=\"f(1)\")\n",
    "    diff1_slider = Slider(start=-10, end=10, value=0, step=0.01, title=\"f'(1)\")\n",
    "    diff2_slider = Slider(start=-10, end=10, value=0, step=0.01, title=\"f'(2)\")\n",
    "    \n",
    "    for widget in [f1_slider, f2_slider, diff1_slider, diff2_slider]:\n",
    "        widget.on_change('value', update)\n",
    "    \n",
    "    inputs = widgetbox(f1_slider, f2_slider, diff1_slider, diff2_slider)\n",
    "    layout = row(inputs, create_figure())\n",
    "\n",
    "    doc.add_root(layout)\n",
    "    doc.title = \"Polynomial Fit\"\n",
    "    \n",
    "handler = FunctionHandler(modify_doc)\n",
    "app = Application(handler)\n",
    "\n",
    "doc = app.create_document()\n",
    "show(app, notebook_url=\"localhost:8888\")"
   ]
  },
  {
   "cell_type": "code",
   "execution_count": 94,
   "metadata": {},
   "outputs": [
    {
     "name": "stdout",
     "output_type": "stream",
     "text": [
      "0.707106781187\n"
     ]
    }
   ],
   "source": []
  },
  {
   "cell_type": "code",
   "execution_count": null,
   "metadata": {
    "collapsed": true
   },
   "outputs": [],
   "source": []
  }
 ],
 "metadata": {
  "kernelspec": {
   "display_name": "Python 3",
   "language": "python",
   "name": "python3"
  },
  "language_info": {
   "codemirror_mode": {
    "name": "ipython",
    "version": 3
   },
   "file_extension": ".py",
   "mimetype": "text/x-python",
   "name": "python",
   "nbconvert_exporter": "python",
   "pygments_lexer": "ipython3",
   "version": "3.6.3"
  }
 },
 "nbformat": 4,
 "nbformat_minor": 2
}

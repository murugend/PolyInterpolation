{
 "cells": [
  {
   "cell_type": "markdown",
   "metadata": {},
   "source": [
    "# Polynomial Resampling"
   ]
  },
  {
   "cell_type": "markdown",
   "metadata": {},
   "source": [
    "## Exploring algorithms for real-time resampling/interpolation of sensor-data."
   ]
  },
  {
   "cell_type": "markdown",
   "metadata": {},
   "source": [
    "As opposed to batchwise resampling, where you have the entire time-series with many datapoints available to recreate the signal, we are assuming that we only have a short sliding window of datapoint. This is a result of having the resampling algorithm be highly performant, and also of having to resample in real-time on an incoming stream of data.\n",
    "\n",
    "We are also assuming that the incoming data is non-uniform in the sense that the data is not coming at specified regular interval. Some of the data might also be missing at the time when resampling has to be performed.\n",
    "\n",
    "This document will explore some of the possibilities and options for resampling by fitting the datapoints with piecewise polynomial interpolation functions."
   ]
  },
  {
   "cell_type": "markdown",
   "metadata": {},
   "source": [
    "### Choosing the Polynomial Degree"
   ]
  },
  {
   "cell_type": "markdown",
   "metadata": {},
   "source": [
    "A linear fit between datapoints is the simplest solution to implement. And one that requires the least amount of data to perform. All that is needed are two points to interpolate between. As the degree of the polynomial increases more data is required, as the polynomial has free parameters that must be determined. But, higher polynomial degree also yields better fitting curves with smoother transitions between segments of the piecewise interpolation.\n",
    "\n",
    "We argue that cubic polynomials are the best choice as this is the smallest polynomial degree which allows one to not only align the points, but also align the first derivates resulting in smooth transisition from one polynomial piece to another."
   ]
  },
  {
   "cell_type": "code",
   "execution_count": null,
   "metadata": {
    "collapsed": true
   },
   "outputs": [],
   "source": [
    "import pandas as pd\n",
    "import numpy as np\n",
    "from bokeh.plotting import figure, curdoc\n",
    "from bokeh.models.widgets import Slider\n",
    "from bokeh.models import Select\n",
    "from bokeh.charts import Histogram\n",
    "from bokeh.layouts import row, widgetbox\n",
    "from bokeh.io import show, output_notebook\n",
    "from bokeh.application.handlers import FunctionHandler\n",
    "from bokeh.application import Application"
   ]
  },
  {
   "cell_type": "code",
   "execution_count": null,
   "metadata": {
    "collapsed": true
   },
   "outputs": [],
   "source": [
    "# Create the Document Application\n",
    "def modify_doc(doc):\n",
    "    \n",
    "    # Create the main plot\n",
    "    def create_figure():\n",
    "        current_feature_name = feature_name.value\n",
    "        p = Histogram(iris_df, current_feature_name, title=current_feature_name, color='Species', \n",
    "            bins=20, legend='top_right', width=600, height=400)\n",
    "\n",
    "        # Set the x axis label\n",
    "        p.xaxis.axis_label = current_feature_name\n",
    "\n",
    "        # Set the y axis label\n",
    "        p.yaxis.axis_label = 'Count'\n",
    "        return p\n",
    "\n",
    "    # Update the plot\n",
    "    def update(attr, old, new):\n",
    "        layout.children[1] = create_figure()\n",
    "    \n",
    "    # Controls\n",
    "    feature_name = Select(title=\"Iris Feature:\", options=feature_names, value=feature_names[0])\n",
    "    feature_name.on_change('value', update)\n",
    "    controls = widgetbox([feature_name], width=200)\n",
    "    p = create_figure()\n",
    "    layout = row(controls, p)\n",
    "    doc.add_root(layout)\n",
    "\n",
    "# Set up the Application \n",
    "handler = FunctionHandler(modify_doc)\n",
    "app = Application(handler)"
   ]
  },
  {
   "cell_type": "code",
   "execution_count": null,
   "metadata": {
    "collapsed": false
   },
   "outputs": [],
   "source": [
    "# Create the Document Application\n",
    "def modify_doc(doc):\n",
    "    \n",
    "    output_notebook()\n",
    "    \n",
    "    # Create the main plot\n",
    "    def create_figure():\n",
    "        # Set up data\n",
    "        t_in = np.array([0., 1.])\n",
    "        f_in = np.array([2., 3.])\n",
    "        diff_in = np.array([0., 0.])\n",
    "\n",
    "        # cubic polynomialS\n",
    "        polyDeg = 3\n",
    "\n",
    "        A = np.zeros([polyDeg + 1, polyDeg + 1])\n",
    "        for i in np.arange(0, polyDeg + 1):\n",
    "            A[[0, 1], i] = np.power(t_in, polyDeg - i)\n",
    "\n",
    "        A[2, :] = np.array([3 * np.square(t_in[0]), 2 * t_in[0], 1, 0])\n",
    "        A[3, :] = np.array([3 * np.square(t_in[1]), 2 * t_in[1], 1, 0])\n",
    "\n",
    "        t = np.arange(0, 1, 0.01)\n",
    "\n",
    "        # Get data\n",
    "        f_in[0] = f1_slider.value\n",
    "        f_in[1] = f2_slider.value\n",
    "\n",
    "        diff_in[0] = diff1_slider.value\n",
    "        diff_in[1] = diff2_slider.value\n",
    "\n",
    "        # Do calculations\n",
    "        cubicParams = np.dot(np.linalg.inv(A), np.append(f_in, diff_in))\n",
    "        y = np.polyval(cubicParams, t)\n",
    "\n",
    "        # Set up Plot\n",
    "        plot = figure(plot_width=400, plot_height=400, x_range=[-0.1,1.1], y_range=[0.9,5.1])\n",
    "        plot.line(t, y, line_width=1, color=\"blue\")\n",
    "        plot.circle(t_in, f_in, size=8, fill_color=\"white\")\n",
    "\n",
    "        return plot\n",
    "\n",
    "\n",
    "    # Update the plot\n",
    "    def update(attr, old, new):\n",
    "        layout.children[1] = create_figure()\n",
    "\n",
    "\n",
    "    # Controls\n",
    "    f1_slider = Slider(start=1, end=4, value=2, step=0.01, title=\"f(0)\")\n",
    "    f2_slider = Slider(start=1, end=4, value=3, step=0.01, title=\"f(1)\")\n",
    "    diff1_slider = Slider(start=-10, end=10, value=0, step=0.01, title=\"f'(1)\")\n",
    "    diff2_slider = Slider(start=-10, end=10, value=0, step=0.01, title=\"f'(2)\")\n",
    "\n",
    "    for io in [f1_slider, f2_slider, diff1_slider, diff2_slider]:\n",
    "        io.on_change('value', update)\n",
    "\n",
    "    inputs = widgetbox(f1_slider, f2_slider, diff1_slider, diff2_slider)\n",
    "    layout = row(inputs, create_figure())\n",
    "    doc.add_root(layout)\n",
    "\n",
    "# Set up the Application\n",
    "handler = FunctionHandler(modify_doc)\n",
    "app = Application(handler)\n",
    "doc = app.create_document()\n",
    "\n",
    "show(app, notebook_url=\"localhost:8888\")"
   ]
  },
  {
   "cell_type": "code",
   "execution_count": null,
   "metadata": {
    "collapsed": true
   },
   "outputs": [],
   "source": []
  },
  {
   "cell_type": "code",
   "execution_count": null,
   "metadata": {
    "collapsed": true
   },
   "outputs": [],
   "source": []
  }
 ],
 "metadata": {
  "kernelspec": {
   "display_name": "Python 3",
   "language": "python",
   "name": "python3"
  },
  "language_info": {
   "codemirror_mode": {
    "name": "ipython",
    "version": 3
   },
   "file_extension": ".py",
   "mimetype": "text/x-python",
   "name": "python",
   "nbconvert_exporter": "python",
   "pygments_lexer": "ipython3",
   "version": "3.6.0"
  }
 },
 "nbformat": 4,
 "nbformat_minor": 2
}

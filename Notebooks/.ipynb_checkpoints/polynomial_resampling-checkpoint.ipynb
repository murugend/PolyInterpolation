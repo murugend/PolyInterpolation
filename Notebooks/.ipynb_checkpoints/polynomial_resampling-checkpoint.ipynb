{
 "cells": [
  {
   "cell_type": "markdown",
   "metadata": {},
   "source": [
    "# Polynomial Resampling"
   ]
  },
  {
   "cell_type": "markdown",
   "metadata": {},
   "source": [
    "## Exploring algorithms for real-time resampling/interpolation of sensor-data."
   ]
  },
  {
   "cell_type": "markdown",
   "metadata": {},
   "source": [
    "As opposed to batchwise resampling, where you have the entire time-series with many datapoints available to recreate the signal, we are assuming that we only have a short sliding window of datapoint. This is a result of having the resampling algorithm be highly performant, and also of having to resample in real-time on an incoming stream of data.\n",
    "\n",
    "We are also assuming that the incoming data is non-uniform in the sense that the data is not coming at specified regular interval. Some of the data might also be missing at the time when resampling has to be performed.\n",
    "\n",
    "This document will explore some of the possibilities and options for resampling by fitting the datapoints with piecewise polynomial interpolation functions."
   ]
  },
  {
   "cell_type": "markdown",
   "metadata": {},
   "source": [
    "### Choosing the Polynomial Degree"
   ]
  },
  {
   "cell_type": "markdown",
   "metadata": {},
   "source": [
    "A linear fit between datapoints is the simplest solution to implement. And one that requires the least amount of data to perform. All that is needed are two points to interpolate between. As the degree of the polynomial increases more data is required, as the polynomial has free parameters that must be determined. But, higher polynomial degree also yields better fitting curves with smoother transitions between segments of the piecewise interpolation.\n",
    "\n",
    "We argue that cubic polynomials are the best choice as this is the smallest polynomial degree which allows one to not only align the points, but also align the first derivates resulting in smooth transisition from one polynomial piece to another."
   ]
  },
  {
   "cell_type": "code",
   "execution_count": 1,
   "metadata": {},
   "outputs": [
    {
     "data": {
      "text/html": [
       "\n",
       "    <div class=\"bk-root\">\n",
       "        <a href=\"https://bokeh.pydata.org\" target=\"_blank\" class=\"bk-logo bk-logo-small bk-logo-notebook\"></a>\n",
       "        <span id=\"477592a3-36a8-4d83-8480-b28508ec1680\">Loading BokehJS ...</span>\n",
       "    </div>"
      ]
     },
     "metadata": {},
     "output_type": "display_data"
    },
    {
     "data": {
      "application/javascript": [
       "\n",
       "(function(root) {\n",
       "  function now() {\n",
       "    return new Date();\n",
       "  }\n",
       "\n",
       "  var force = true;\n",
       "\n",
       "  if (typeof (root._bokeh_onload_callbacks) === \"undefined\" || force === true) {\n",
       "    root._bokeh_onload_callbacks = [];\n",
       "    root._bokeh_is_loading = undefined;\n",
       "  }\n",
       "\n",
       "  var JS_MIME_TYPE = 'application/javascript';\n",
       "  var HTML_MIME_TYPE = 'text/html';\n",
       "  var EXEC_MIME_TYPE = 'application/vnd.bokehjs_exec.v0+json';\n",
       "  var CLASS_NAME = 'output_bokeh rendered_html';\n",
       "\n",
       "  /**\n",
       "   * Render data to the DOM node\n",
       "   */\n",
       "  function render(props, node) {\n",
       "    var script = document.createElement(\"script\");\n",
       "    node.appendChild(script);\n",
       "  }\n",
       "\n",
       "  /**\n",
       "   * Handle when an output is cleared or removed\n",
       "   */\n",
       "  function handleClearOutput(event, handle) {\n",
       "    var cell = handle.cell;\n",
       "\n",
       "    var id = cell.output_area._bokeh_element_id;\n",
       "    var server_id = cell.output_area._bokeh_server_id;\n",
       "    // Clean up Bokeh references\n",
       "    if (id !== undefined) {\n",
       "      Bokeh.index[id].model.document.clear();\n",
       "      delete Bokeh.index[id];\n",
       "    }\n",
       "\n",
       "    if (server_id !== undefined) {\n",
       "      // Clean up Bokeh references\n",
       "      var cmd = \"from bokeh.io.state import curstate; print(curstate().uuid_to_server['\" + server_id + \"'].get_sessions()[0].document.roots[0]._id)\";\n",
       "      cell.notebook.kernel.execute(cmd, {\n",
       "        iopub: {\n",
       "          output: function(msg) {\n",
       "            var element_id = msg.content.text.trim();\n",
       "            Bokeh.index[element_id].model.document.clear();\n",
       "            delete Bokeh.index[element_id];\n",
       "          }\n",
       "        }\n",
       "      });\n",
       "      // Destroy server and session\n",
       "      var cmd = \"import bokeh.io.notebook as ion; ion.destroy_server('\" + server_id + \"')\";\n",
       "      cell.notebook.kernel.execute(cmd);\n",
       "    }\n",
       "  }\n",
       "\n",
       "  /**\n",
       "   * Handle when a new output is added\n",
       "   */\n",
       "  function handleAddOutput(event, handle) {\n",
       "    var output_area = handle.output_area;\n",
       "    var output = handle.output;\n",
       "\n",
       "    // limit handleAddOutput to display_data with EXEC_MIME_TYPE content only\n",
       "    if ((output.output_type != \"display_data\") || (!output.data.hasOwnProperty(EXEC_MIME_TYPE))) {\n",
       "      return\n",
       "    }\n",
       "\n",
       "    var toinsert = output_area.element.find(`.${CLASS_NAME.split(' ')[0]}`);\n",
       "\n",
       "    if (output.metadata[EXEC_MIME_TYPE][\"id\"] !== undefined) {\n",
       "      toinsert[0].firstChild.textContent = output.data[JS_MIME_TYPE];\n",
       "      // store reference to embed id on output_area\n",
       "      output_area._bokeh_element_id = output.metadata[EXEC_MIME_TYPE][\"id\"];\n",
       "    }\n",
       "    if (output.metadata[EXEC_MIME_TYPE][\"server_id\"] !== undefined) {\n",
       "      var bk_div = document.createElement(\"div\");\n",
       "      bk_div.innerHTML = output.data[HTML_MIME_TYPE];\n",
       "      var script_attrs = bk_div.children[0].attributes;\n",
       "      for (var i = 0; i < script_attrs.length; i++) {\n",
       "        toinsert[0].firstChild.setAttribute(script_attrs[i].name, script_attrs[i].value);\n",
       "      }\n",
       "      // store reference to server id on output_area\n",
       "      output_area._bokeh_server_id = output.metadata[EXEC_MIME_TYPE][\"server_id\"];\n",
       "    }\n",
       "  }\n",
       "\n",
       "  function register_renderer(events, OutputArea) {\n",
       "\n",
       "    function append_mime(data, metadata, element) {\n",
       "      // create a DOM node to render to\n",
       "      var toinsert = this.create_output_subarea(\n",
       "        metadata,\n",
       "        CLASS_NAME,\n",
       "        EXEC_MIME_TYPE\n",
       "      );\n",
       "      this.keyboard_manager.register_events(toinsert);\n",
       "      // Render to node\n",
       "      var props = {data: data, metadata: metadata[EXEC_MIME_TYPE]};\n",
       "      render(props, toinsert[0]);\n",
       "      element.append(toinsert);\n",
       "      return toinsert\n",
       "    }\n",
       "\n",
       "    /* Handle when an output is cleared or removed */\n",
       "    events.on('clear_output.CodeCell', handleClearOutput);\n",
       "    events.on('delete.Cell', handleClearOutput);\n",
       "\n",
       "    /* Handle when a new output is added */\n",
       "    events.on('output_added.OutputArea', handleAddOutput);\n",
       "\n",
       "    /**\n",
       "     * Register the mime type and append_mime function with output_area\n",
       "     */\n",
       "    OutputArea.prototype.register_mime_type(EXEC_MIME_TYPE, append_mime, {\n",
       "      /* Is output safe? */\n",
       "      safe: true,\n",
       "      /* Index of renderer in `output_area.display_order` */\n",
       "      index: 0\n",
       "    });\n",
       "  }\n",
       "\n",
       "  // register the mime type if in Jupyter Notebook environment and previously unregistered\n",
       "  if (root.Jupyter !== undefined) {\n",
       "    var events = require('base/js/events');\n",
       "    var OutputArea = require('notebook/js/outputarea').OutputArea;\n",
       "\n",
       "    if (OutputArea.prototype.mime_types().indexOf(EXEC_MIME_TYPE) == -1) {\n",
       "      register_renderer(events, OutputArea);\n",
       "    }\n",
       "  }\n",
       "\n",
       "  \n",
       "  if (typeof (root._bokeh_timeout) === \"undefined\" || force === true) {\n",
       "    root._bokeh_timeout = Date.now() + 5000;\n",
       "    root._bokeh_failed_load = false;\n",
       "  }\n",
       "\n",
       "  var NB_LOAD_WARNING = {'data': {'text/html':\n",
       "     \"<div style='background-color: #fdd'>\\n\"+\n",
       "     \"<p>\\n\"+\n",
       "     \"BokehJS does not appear to have successfully loaded. If loading BokehJS from CDN, this \\n\"+\n",
       "     \"may be due to a slow or bad network connection. Possible fixes:\\n\"+\n",
       "     \"</p>\\n\"+\n",
       "     \"<ul>\\n\"+\n",
       "     \"<li>re-rerun `output_notebook()` to attempt to load from CDN again, or</li>\\n\"+\n",
       "     \"<li>use INLINE resources instead, as so:</li>\\n\"+\n",
       "     \"</ul>\\n\"+\n",
       "     \"<code>\\n\"+\n",
       "     \"from bokeh.resources import INLINE\\n\"+\n",
       "     \"output_notebook(resources=INLINE)\\n\"+\n",
       "     \"</code>\\n\"+\n",
       "     \"</div>\"}};\n",
       "\n",
       "  function display_loaded() {\n",
       "    var el = document.getElementById(\"477592a3-36a8-4d83-8480-b28508ec1680\");\n",
       "    if (el != null) {\n",
       "      el.textContent = \"BokehJS is loading...\";\n",
       "    }\n",
       "    if (root.Bokeh !== undefined) {\n",
       "      if (el != null) {\n",
       "        el.textContent = \"BokehJS \" + root.Bokeh.version + \" successfully loaded.\";\n",
       "      }\n",
       "    } else if (Date.now() < root._bokeh_timeout) {\n",
       "      setTimeout(display_loaded, 100)\n",
       "    }\n",
       "  }\n",
       "\n",
       "\n",
       "  function run_callbacks() {\n",
       "    try {\n",
       "      root._bokeh_onload_callbacks.forEach(function(callback) { callback() });\n",
       "    }\n",
       "    finally {\n",
       "      delete root._bokeh_onload_callbacks\n",
       "    }\n",
       "    console.info(\"Bokeh: all callbacks have finished\");\n",
       "  }\n",
       "\n",
       "  function load_libs(js_urls, callback) {\n",
       "    root._bokeh_onload_callbacks.push(callback);\n",
       "    if (root._bokeh_is_loading > 0) {\n",
       "      console.log(\"Bokeh: BokehJS is being loaded, scheduling callback at\", now());\n",
       "      return null;\n",
       "    }\n",
       "    if (js_urls == null || js_urls.length === 0) {\n",
       "      run_callbacks();\n",
       "      return null;\n",
       "    }\n",
       "    console.log(\"Bokeh: BokehJS not loaded, scheduling load and callback at\", now());\n",
       "    root._bokeh_is_loading = js_urls.length;\n",
       "    for (var i = 0; i < js_urls.length; i++) {\n",
       "      var url = js_urls[i];\n",
       "      var s = document.createElement('script');\n",
       "      s.src = url;\n",
       "      s.async = false;\n",
       "      s.onreadystatechange = s.onload = function() {\n",
       "        root._bokeh_is_loading--;\n",
       "        if (root._bokeh_is_loading === 0) {\n",
       "          console.log(\"Bokeh: all BokehJS libraries loaded\");\n",
       "          run_callbacks()\n",
       "        }\n",
       "      };\n",
       "      s.onerror = function() {\n",
       "        console.warn(\"failed to load library \" + url);\n",
       "      };\n",
       "      console.log(\"Bokeh: injecting script tag for BokehJS library: \", url);\n",
       "      document.getElementsByTagName(\"head\")[0].appendChild(s);\n",
       "    }\n",
       "  };var element = document.getElementById(\"477592a3-36a8-4d83-8480-b28508ec1680\");\n",
       "  if (element == null) {\n",
       "    console.log(\"Bokeh: ERROR: autoload.js configured with elementid '477592a3-36a8-4d83-8480-b28508ec1680' but no matching script tag was found. \")\n",
       "    return false;\n",
       "  }\n",
       "\n",
       "  var js_urls = [\"https://cdn.pydata.org/bokeh/release/bokeh-0.12.10.min.js\", \"https://cdn.pydata.org/bokeh/release/bokeh-widgets-0.12.10.min.js\", \"https://cdn.pydata.org/bokeh/release/bokeh-tables-0.12.10.min.js\", \"https://cdn.pydata.org/bokeh/release/bokeh-gl-0.12.10.min.js\"];\n",
       "\n",
       "  var inline_js = [\n",
       "    function(Bokeh) {\n",
       "      Bokeh.set_log_level(\"info\");\n",
       "    },\n",
       "    \n",
       "    function(Bokeh) {\n",
       "      \n",
       "    },\n",
       "    function(Bokeh) {\n",
       "      console.log(\"Bokeh: injecting CSS: https://cdn.pydata.org/bokeh/release/bokeh-0.12.10.min.css\");\n",
       "      Bokeh.embed.inject_css(\"https://cdn.pydata.org/bokeh/release/bokeh-0.12.10.min.css\");\n",
       "      console.log(\"Bokeh: injecting CSS: https://cdn.pydata.org/bokeh/release/bokeh-widgets-0.12.10.min.css\");\n",
       "      Bokeh.embed.inject_css(\"https://cdn.pydata.org/bokeh/release/bokeh-widgets-0.12.10.min.css\");\n",
       "      console.log(\"Bokeh: injecting CSS: https://cdn.pydata.org/bokeh/release/bokeh-tables-0.12.10.min.css\");\n",
       "      Bokeh.embed.inject_css(\"https://cdn.pydata.org/bokeh/release/bokeh-tables-0.12.10.min.css\");\n",
       "    }\n",
       "  ];\n",
       "\n",
       "  function run_inline_js() {\n",
       "    \n",
       "    if ((root.Bokeh !== undefined) || (force === true)) {\n",
       "      for (var i = 0; i < inline_js.length; i++) {\n",
       "        inline_js[i].call(root, root.Bokeh);\n",
       "      }if (force === true) {\n",
       "        display_loaded();\n",
       "      }} else if (Date.now() < root._bokeh_timeout) {\n",
       "      setTimeout(run_inline_js, 100);\n",
       "    } else if (!root._bokeh_failed_load) {\n",
       "      console.log(\"Bokeh: BokehJS failed to load within specified timeout.\");\n",
       "      root._bokeh_failed_load = true;\n",
       "    } else if (force !== true) {\n",
       "      var cell = $(document.getElementById(\"477592a3-36a8-4d83-8480-b28508ec1680\")).parents('.cell').data().cell;\n",
       "      cell.output_area.append_execute_result(NB_LOAD_WARNING)\n",
       "    }\n",
       "\n",
       "  }\n",
       "\n",
       "  if (root._bokeh_is_loading === 0) {\n",
       "    console.log(\"Bokeh: BokehJS loaded, going straight to plotting\");\n",
       "    run_inline_js();\n",
       "  } else {\n",
       "    load_libs(js_urls, function() {\n",
       "      console.log(\"Bokeh: BokehJS plotting callback run at\", now());\n",
       "      run_inline_js();\n",
       "    });\n",
       "  }\n",
       "}(window));"
      ],
      "application/vnd.bokehjs_load.v0+json": "\n(function(root) {\n  function now() {\n    return new Date();\n  }\n\n  var force = true;\n\n  if (typeof (root._bokeh_onload_callbacks) === \"undefined\" || force === true) {\n    root._bokeh_onload_callbacks = [];\n    root._bokeh_is_loading = undefined;\n  }\n\n  \n\n  \n  if (typeof (root._bokeh_timeout) === \"undefined\" || force === true) {\n    root._bokeh_timeout = Date.now() + 5000;\n    root._bokeh_failed_load = false;\n  }\n\n  var NB_LOAD_WARNING = {'data': {'text/html':\n     \"<div style='background-color: #fdd'>\\n\"+\n     \"<p>\\n\"+\n     \"BokehJS does not appear to have successfully loaded. If loading BokehJS from CDN, this \\n\"+\n     \"may be due to a slow or bad network connection. Possible fixes:\\n\"+\n     \"</p>\\n\"+\n     \"<ul>\\n\"+\n     \"<li>re-rerun `output_notebook()` to attempt to load from CDN again, or</li>\\n\"+\n     \"<li>use INLINE resources instead, as so:</li>\\n\"+\n     \"</ul>\\n\"+\n     \"<code>\\n\"+\n     \"from bokeh.resources import INLINE\\n\"+\n     \"output_notebook(resources=INLINE)\\n\"+\n     \"</code>\\n\"+\n     \"</div>\"}};\n\n  function display_loaded() {\n    var el = document.getElementById(\"477592a3-36a8-4d83-8480-b28508ec1680\");\n    if (el != null) {\n      el.textContent = \"BokehJS is loading...\";\n    }\n    if (root.Bokeh !== undefined) {\n      if (el != null) {\n        el.textContent = \"BokehJS \" + root.Bokeh.version + \" successfully loaded.\";\n      }\n    } else if (Date.now() < root._bokeh_timeout) {\n      setTimeout(display_loaded, 100)\n    }\n  }\n\n\n  function run_callbacks() {\n    try {\n      root._bokeh_onload_callbacks.forEach(function(callback) { callback() });\n    }\n    finally {\n      delete root._bokeh_onload_callbacks\n    }\n    console.info(\"Bokeh: all callbacks have finished\");\n  }\n\n  function load_libs(js_urls, callback) {\n    root._bokeh_onload_callbacks.push(callback);\n    if (root._bokeh_is_loading > 0) {\n      console.log(\"Bokeh: BokehJS is being loaded, scheduling callback at\", now());\n      return null;\n    }\n    if (js_urls == null || js_urls.length === 0) {\n      run_callbacks();\n      return null;\n    }\n    console.log(\"Bokeh: BokehJS not loaded, scheduling load and callback at\", now());\n    root._bokeh_is_loading = js_urls.length;\n    for (var i = 0; i < js_urls.length; i++) {\n      var url = js_urls[i];\n      var s = document.createElement('script');\n      s.src = url;\n      s.async = false;\n      s.onreadystatechange = s.onload = function() {\n        root._bokeh_is_loading--;\n        if (root._bokeh_is_loading === 0) {\n          console.log(\"Bokeh: all BokehJS libraries loaded\");\n          run_callbacks()\n        }\n      };\n      s.onerror = function() {\n        console.warn(\"failed to load library \" + url);\n      };\n      console.log(\"Bokeh: injecting script tag for BokehJS library: \", url);\n      document.getElementsByTagName(\"head\")[0].appendChild(s);\n    }\n  };var element = document.getElementById(\"477592a3-36a8-4d83-8480-b28508ec1680\");\n  if (element == null) {\n    console.log(\"Bokeh: ERROR: autoload.js configured with elementid '477592a3-36a8-4d83-8480-b28508ec1680' but no matching script tag was found. \")\n    return false;\n  }\n\n  var js_urls = [\"https://cdn.pydata.org/bokeh/release/bokeh-0.12.10.min.js\", \"https://cdn.pydata.org/bokeh/release/bokeh-widgets-0.12.10.min.js\", \"https://cdn.pydata.org/bokeh/release/bokeh-tables-0.12.10.min.js\", \"https://cdn.pydata.org/bokeh/release/bokeh-gl-0.12.10.min.js\"];\n\n  var inline_js = [\n    function(Bokeh) {\n      Bokeh.set_log_level(\"info\");\n    },\n    \n    function(Bokeh) {\n      \n    },\n    function(Bokeh) {\n      console.log(\"Bokeh: injecting CSS: https://cdn.pydata.org/bokeh/release/bokeh-0.12.10.min.css\");\n      Bokeh.embed.inject_css(\"https://cdn.pydata.org/bokeh/release/bokeh-0.12.10.min.css\");\n      console.log(\"Bokeh: injecting CSS: https://cdn.pydata.org/bokeh/release/bokeh-widgets-0.12.10.min.css\");\n      Bokeh.embed.inject_css(\"https://cdn.pydata.org/bokeh/release/bokeh-widgets-0.12.10.min.css\");\n      console.log(\"Bokeh: injecting CSS: https://cdn.pydata.org/bokeh/release/bokeh-tables-0.12.10.min.css\");\n      Bokeh.embed.inject_css(\"https://cdn.pydata.org/bokeh/release/bokeh-tables-0.12.10.min.css\");\n    }\n  ];\n\n  function run_inline_js() {\n    \n    if ((root.Bokeh !== undefined) || (force === true)) {\n      for (var i = 0; i < inline_js.length; i++) {\n        inline_js[i].call(root, root.Bokeh);\n      }if (force === true) {\n        display_loaded();\n      }} else if (Date.now() < root._bokeh_timeout) {\n      setTimeout(run_inline_js, 100);\n    } else if (!root._bokeh_failed_load) {\n      console.log(\"Bokeh: BokehJS failed to load within specified timeout.\");\n      root._bokeh_failed_load = true;\n    } else if (force !== true) {\n      var cell = $(document.getElementById(\"477592a3-36a8-4d83-8480-b28508ec1680\")).parents('.cell').data().cell;\n      cell.output_area.append_execute_result(NB_LOAD_WARNING)\n    }\n\n  }\n\n  if (root._bokeh_is_loading === 0) {\n    console.log(\"Bokeh: BokehJS loaded, going straight to plotting\");\n    run_inline_js();\n  } else {\n    load_libs(js_urls, function() {\n      console.log(\"Bokeh: BokehJS plotting callback run at\", now());\n      run_inline_js();\n    });\n  }\n}(window));"
     },
     "metadata": {},
     "output_type": "display_data"
    }
   ],
   "source": [
    "import numpy as np\n",
    "\n",
    "from ipywidgets import interact\n",
    "from bokeh.io import push_notebook, show, output_notebook\n",
    "from bokeh.plotting import figure\n",
    "\n",
    "output_notebook()"
   ]
  },
  {
   "cell_type": "code",
   "execution_count": 7,
   "metadata": {},
   "outputs": [],
   "source": [
    "# Set up data\n",
    "t_in = np.array([0, 1])\n",
    "fin = np.array([2, 3])\n",
    "diff_in = np.array([0, 0])\n",
    "\n",
    "# cubic polynomial\n",
    "polyDeg = 3;\n",
    "\n",
    "A = np.zeros([polyDeg + 1, polyDeg + 1])\n",
    "for i in np.arange(0, polyDeg+1):\n",
    "    A[[0, 1], i] = np.power(t_in, polyDeg-i)\n",
    "\n",
    "A[2, :] = np.array([3 * np.square(t_in[0]), 2 * t_in[0], 1, 0])\n",
    "A[3, :] = np.array([3 * np.square(t_in[1]), 2 * t_in[1], 1, 0])\n",
    "\n",
    "cubicParams = np.dot(np.linalg.inv(A), np.append(fin, diff_in))\n",
    "\n",
    "t = np.arange(0, 1, 0.01)\n",
    "y = np.polyval(cubicParams, t)"
   ]
  },
  {
   "cell_type": "code",
   "execution_count": 8,
   "metadata": {},
   "outputs": [],
   "source": [
    "# Create figure\n",
    "plot = figure(plot_width=400, plot_height=400, title=\"Cubic Interpolation between two DataPoints\")\n",
    "r = plot.line(t, y, line_width=1, color=\"blue\")\n",
    "s = plot.circle(t_in, fin, size=8, fill_color=\"white\")\n",
    "\n",
    "# Figure update function\n",
    "def update(f1, f2, diff1, diff2):\n",
    "    fin = np.array([f1,f2])\n",
    "    diff_in = np.array([diff1, diff2])\n",
    "    \n",
    "    cubicParams = np.dot(np.linalg.inv(A), np.append(fin, diff_in))\n",
    "    \n",
    "    t = np.arange(0, 1, 0.01)\n",
    "    y = np.polyval(cubicParams, t)\n",
    "    \n",
    "    s.data_source.data['fin'] = fin\n",
    "    r.data_source.data['y'] = y\n",
    "    \n",
    "    push_notebook()\n",
    "    "
   ]
  },
  {
   "cell_type": "code",
   "execution_count": 9,
   "metadata": {},
   "outputs": [
    {
     "data": {
      "text/html": [
       "\n",
       "<div class=\"bk-root\">\n",
       "    <div class=\"bk-plotdiv\" id=\"4728da26-4651-49be-92da-073dec16f365\"></div>\n",
       "</div>"
      ]
     },
     "metadata": {},
     "output_type": "display_data"
    },
    {
     "data": {
      "application/javascript": [
       "(function(root) {\n",
       "  function embed_document(root) {\n",
       "    var docs_json = {\"1272c8f9-7441-4c74-adcd-179157971344\":{\"roots\":{\"references\":[{\"attributes\":{},\"id\":\"f183d43e-51cb-48e9-8b76-2be1546ff329\",\"type\":\"LinearScale\"},{\"attributes\":{\"callback\":null},\"id\":\"46a0e1ba-6711-4a18-9651-2027eb96705e\",\"type\":\"DataRange1d\"},{\"attributes\":{},\"id\":\"a70a7466-2ad9-4925-80a6-f0f41fba4b5c\",\"type\":\"LinearScale\"},{\"attributes\":{\"fill_alpha\":{\"value\":0.1},\"fill_color\":{\"value\":\"#1f77b4\"},\"line_alpha\":{\"value\":0.1},\"line_color\":{\"value\":\"#1f77b4\"},\"size\":{\"units\":\"screen\",\"value\":8},\"x\":{\"field\":\"x\"},\"y\":{\"field\":\"y\"}},\"id\":\"4ed3a640-a438-4b8f-aa88-7374d2a0929b\",\"type\":\"Circle\"},{\"attributes\":{\"formatter\":{\"id\":\"97ca9124-8ca2-452c-bc61-ed01520a7e47\",\"type\":\"BasicTickFormatter\"},\"plot\":{\"id\":\"73d53593-a16e-4ee0-9c5c-290572317827\",\"subtype\":\"Figure\",\"type\":\"Plot\"},\"ticker\":{\"id\":\"4b289d27-2e4b-4c9b-a0db-e2f19d5552b4\",\"type\":\"BasicTicker\"}},\"id\":\"04a08e82-051d-4222-88cd-037dac4ec1a9\",\"type\":\"LinearAxis\"},{\"attributes\":{},\"id\":\"4b289d27-2e4b-4c9b-a0db-e2f19d5552b4\",\"type\":\"BasicTicker\"},{\"attributes\":{\"line_alpha\":{\"value\":0.1},\"line_color\":{\"value\":\"#1f77b4\"},\"x\":{\"field\":\"x\"},\"y\":{\"field\":\"y\"}},\"id\":\"0566989a-e72b-4dd7-8e6e-fe79b4ba2045\",\"type\":\"Line\"},{\"attributes\":{\"callback\":null,\"column_names\":[\"x\",\"y\"],\"data\":{\"x\":{\"__ndarray__\":\"AAAAAAEAAAA=\",\"dtype\":\"int32\",\"shape\":[2]},\"y\":{\"__ndarray__\":\"AgAAAAMAAAA=\",\"dtype\":\"int32\",\"shape\":[2]}}},\"id\":\"05da606b-a2a8-4ea8-b9cb-2aa73e082ef6\",\"type\":\"ColumnDataSource\"},{\"attributes\":{},\"id\":\"26ab214f-bd2b-46cb-9394-3190d13f73e7\",\"type\":\"BasicTicker\"},{\"attributes\":{\"dimension\":1,\"plot\":{\"id\":\"73d53593-a16e-4ee0-9c5c-290572317827\",\"subtype\":\"Figure\",\"type\":\"Plot\"},\"ticker\":{\"id\":\"26ab214f-bd2b-46cb-9394-3190d13f73e7\",\"type\":\"BasicTicker\"}},\"id\":\"b604b256-2ada-44c9-93c3-480fe9430573\",\"type\":\"Grid\"},{\"attributes\":{\"line_color\":{\"value\":\"blue\"},\"x\":{\"field\":\"x\"},\"y\":{\"field\":\"y\"}},\"id\":\"0340a005-0df7-470a-b1a3-3659c17d1149\",\"type\":\"Line\"},{\"attributes\":{\"formatter\":{\"id\":\"493fc9e1-d4a9-4879-b511-eb8ea3e1e761\",\"type\":\"BasicTickFormatter\"},\"plot\":{\"id\":\"73d53593-a16e-4ee0-9c5c-290572317827\",\"subtype\":\"Figure\",\"type\":\"Plot\"},\"ticker\":{\"id\":\"26ab214f-bd2b-46cb-9394-3190d13f73e7\",\"type\":\"BasicTicker\"}},\"id\":\"46901df6-9ec0-4b02-9c71-61baae228edb\",\"type\":\"LinearAxis\"},{\"attributes\":{\"bottom_units\":\"screen\",\"fill_alpha\":{\"value\":0.5},\"fill_color\":{\"value\":\"lightgrey\"},\"left_units\":\"screen\",\"level\":\"overlay\",\"line_alpha\":{\"value\":1.0},\"line_color\":{\"value\":\"black\"},\"line_dash\":[4,4],\"line_width\":{\"value\":2},\"plot\":null,\"render_mode\":\"css\",\"right_units\":\"screen\",\"top_units\":\"screen\"},\"id\":\"f4d1d49e-28d8-41c9-9f56-f4376cbdc6a4\",\"type\":\"BoxAnnotation\"},{\"attributes\":{},\"id\":\"78b2afc3-f6c5-4d05-8b34-557948c07c4f\",\"type\":\"PanTool\"},{\"attributes\":{\"source\":{\"id\":\"391db51f-11e8-4348-aed9-95a95c80697b\",\"type\":\"ColumnDataSource\"}},\"id\":\"443418ad-f8ef-4661-81e1-c9508422a1a0\",\"type\":\"CDSView\"},{\"attributes\":{},\"id\":\"1fb88689-67f7-4b68-8c94-d154134d813b\",\"type\":\"WheelZoomTool\"},{\"attributes\":{\"overlay\":{\"id\":\"f4d1d49e-28d8-41c9-9f56-f4376cbdc6a4\",\"type\":\"BoxAnnotation\"}},\"id\":\"371311a5-4b7c-45ee-88d9-3e22c93e31dd\",\"type\":\"BoxZoomTool\"},{\"attributes\":{},\"id\":\"1e953d53-019c-4961-9687-94cda6b87d21\",\"type\":\"SaveTool\"},{\"attributes\":{},\"id\":\"d4bf25a5-c3dd-43f8-b55b-b038ec150296\",\"type\":\"ResetTool\"},{\"attributes\":{},\"id\":\"5767bc3b-b841-46bf-bb79-fc0423e48d35\",\"type\":\"HelpTool\"},{\"attributes\":{\"data_source\":{\"id\":\"05da606b-a2a8-4ea8-b9cb-2aa73e082ef6\",\"type\":\"ColumnDataSource\"},\"glyph\":{\"id\":\"96fc5d3c-eec2-49de-b6c7-2930f8171a8f\",\"type\":\"Circle\"},\"hover_glyph\":null,\"muted_glyph\":null,\"nonselection_glyph\":{\"id\":\"4ed3a640-a438-4b8f-aa88-7374d2a0929b\",\"type\":\"Circle\"},\"selection_glyph\":null,\"view\":{\"id\":\"18258860-b43b-4bf2-adcb-f9436e6d83c5\",\"type\":\"CDSView\"}},\"id\":\"502a40c7-e0ce-44b4-b970-47733f9c4fd6\",\"type\":\"GlyphRenderer\"},{\"attributes\":{},\"id\":\"97ca9124-8ca2-452c-bc61-ed01520a7e47\",\"type\":\"BasicTickFormatter\"},{\"attributes\":{\"source\":{\"id\":\"05da606b-a2a8-4ea8-b9cb-2aa73e082ef6\",\"type\":\"ColumnDataSource\"}},\"id\":\"18258860-b43b-4bf2-adcb-f9436e6d83c5\",\"type\":\"CDSView\"},{\"attributes\":{\"fill_color\":{\"value\":\"white\"},\"line_color\":{\"value\":\"#1f77b4\"},\"size\":{\"units\":\"screen\",\"value\":8},\"x\":{\"field\":\"x\"},\"y\":{\"field\":\"y\"}},\"id\":\"96fc5d3c-eec2-49de-b6c7-2930f8171a8f\",\"type\":\"Circle\"},{\"attributes\":{},\"id\":\"493fc9e1-d4a9-4879-b511-eb8ea3e1e761\",\"type\":\"BasicTickFormatter\"},{\"attributes\":{\"below\":[{\"id\":\"04a08e82-051d-4222-88cd-037dac4ec1a9\",\"type\":\"LinearAxis\"}],\"left\":[{\"id\":\"46901df6-9ec0-4b02-9c71-61baae228edb\",\"type\":\"LinearAxis\"}],\"plot_height\":400,\"plot_width\":400,\"renderers\":[{\"id\":\"04a08e82-051d-4222-88cd-037dac4ec1a9\",\"type\":\"LinearAxis\"},{\"id\":\"1131d24c-b301-41cf-80d4-1c8dc43f07b4\",\"type\":\"Grid\"},{\"id\":\"46901df6-9ec0-4b02-9c71-61baae228edb\",\"type\":\"LinearAxis\"},{\"id\":\"b604b256-2ada-44c9-93c3-480fe9430573\",\"type\":\"Grid\"},{\"id\":\"f4d1d49e-28d8-41c9-9f56-f4376cbdc6a4\",\"type\":\"BoxAnnotation\"},{\"id\":\"5c0cefe3-8c49-4c45-99f5-05d032d26fb3\",\"type\":\"GlyphRenderer\"},{\"id\":\"502a40c7-e0ce-44b4-b970-47733f9c4fd6\",\"type\":\"GlyphRenderer\"}],\"title\":{\"id\":\"eff79fda-aa66-4063-a338-6337888c6282\",\"type\":\"Title\"},\"toolbar\":{\"id\":\"1b86d74a-c59a-4171-a6e9-e2baaf2d65d9\",\"type\":\"Toolbar\"},\"x_range\":{\"id\":\"57a62c4a-22b4-4c22-bd65-d9c4a3385d5f\",\"type\":\"DataRange1d\"},\"x_scale\":{\"id\":\"f183d43e-51cb-48e9-8b76-2be1546ff329\",\"type\":\"LinearScale\"},\"y_range\":{\"id\":\"46a0e1ba-6711-4a18-9651-2027eb96705e\",\"type\":\"DataRange1d\"},\"y_scale\":{\"id\":\"a70a7466-2ad9-4925-80a6-f0f41fba4b5c\",\"type\":\"LinearScale\"}},\"id\":\"73d53593-a16e-4ee0-9c5c-290572317827\",\"subtype\":\"Figure\",\"type\":\"Plot\"},{\"attributes\":{\"data_source\":{\"id\":\"391db51f-11e8-4348-aed9-95a95c80697b\",\"type\":\"ColumnDataSource\"},\"glyph\":{\"id\":\"0340a005-0df7-470a-b1a3-3659c17d1149\",\"type\":\"Line\"},\"hover_glyph\":null,\"muted_glyph\":null,\"nonselection_glyph\":{\"id\":\"0566989a-e72b-4dd7-8e6e-fe79b4ba2045\",\"type\":\"Line\"},\"selection_glyph\":null,\"view\":{\"id\":\"443418ad-f8ef-4661-81e1-c9508422a1a0\",\"type\":\"CDSView\"}},\"id\":\"5c0cefe3-8c49-4c45-99f5-05d032d26fb3\",\"type\":\"GlyphRenderer\"},{\"attributes\":{\"callback\":null,\"column_names\":[\"x\",\"y\"],\"data\":{\"x\":{\"__ndarray__\":\"AAAAAAAAAAB7FK5H4XqEP3sUrkfhepQ/uB6F61G4nj97FK5H4XqkP5qZmZmZmak/uB6F61G4rj/sUbgeheuxP3sUrkfherQ/CtejcD0Ktz+amZmZmZm5Pylcj8L1KLw/uB6F61G4vj+kcD0K16PAP+xRuB6F68E/MzMzMzMzwz97FK5H4XrEP8P1KFyPwsU/CtejcD0Kxz9SuB6F61HIP5qZmZmZmck/4XoUrkfhyj8pXI/C9SjMP3E9CtejcM0/uB6F61G4zj8AAAAAAADQP6RwPQrXo9A/SOF6FK5H0T/sUbgehevRP4/C9Shcj9I/MzMzMzMz0z/Xo3A9CtfTP3sUrkfhetQ/H4XrUbge1T/D9Shcj8LVP2dmZmZmZtY/CtejcD0K1z+uR+F6FK7XP1K4HoXrUdg/9ihcj8L12D+amZmZmZnZPz4K16NwPdo/4XoUrkfh2j+F61G4HoXbPylcj8L1KNw/zczMzMzM3D9xPQrXo3DdPxWuR+F6FN4/uB6F61G43j9cj8L1KFzfPwAAAAAAAOA/UrgehetR4D+kcD0K16PgP/YoXI/C9eA/SOF6FK5H4T+amZmZmZnhP+xRuB6F6+E/PgrXo3A94j+PwvUoXI/iP+F6FK5H4eI/MzMzMzMz4z+F61G4HoXjP9ejcD0K1+M/KVyPwvUo5D97FK5H4XrkP83MzMzMzOQ/H4XrUbge5T9xPQrXo3DlP8P1KFyPwuU/Fa5H4XoU5j9nZmZmZmbmP7gehetRuOY/CtejcD0K5z9cj8L1KFznP65H4XoUruc/AAAAAAAA6D9SuB6F61HoP6RwPQrXo+g/9ihcj8L16D9I4XoUrkfpP5qZmZmZmek/7FG4HoXr6T8+CtejcD3qP5DC9Shcj+o/4XoUrkfh6j8zMzMzMzPrP4XrUbgehes/16NwPQrX6z8pXI/C9SjsP3sUrkfheuw/zczMzMzM7D8fhetRuB7tP3E9CtejcO0/w/UoXI/C7T8VrkfhehTuP2dmZmZmZu4/uB6F61G47j8K16NwPQrvP1yPwvUoXO8/rkfhehSu7z8=\",\"dtype\":\"float64\",\"shape\":[100]},\"y\":{\"__ndarray__\":\"AAAAAAAAAECeCOI8nAAAQEs6ysFsAgBAw7gbRGsFAEDBpzl5kQkAQAIrhxbZDgBAQWZn0TsVAEA5fT1fsxwAQKeTbHU5JQBARs1XyccuAEDTTWIQWDkAQAg57//jRABAorJhTWVRAEBd3hyu1V4AQPTfg9cubQBAI9v5fmp8AECl8+FZgowAQDhNnx1wnQBAlQuVfy2vAEB6UiY1tMEAQKJFtvP91ABAyAiocATpAECpv15hwf0AQACOPXsuEwFAiZenc0UpAUAAAAAAAEABQCDrqdVXVwFApnwIqkZvAUBN2H4yxocBQNEhcCTQoAFA7Xw/NV66AUBeDVAaatQBQOD2BInt7gFALV3BNuIJAkACZOjYQSUCQBov3SQGQQJAMuIC0ChdAkAFobyPo3kCQE+PbRlwlgJAzNB4IoizAkA3iUFg5dACQEzcKoiB7gJAyO2XT1YMA0Bl4etrXSoDQN/aiZKQSANA8/3UeOlmA0BcbjDUYYUDQNZP/1nzowNAHcakv5fCA0Ds9IO6SOEDQAAAAAAAAARAEwt8RbceBEDiOVtAaD0EQCmwAKYMXARAo5HPK556BEAMAiuHFpkEQCAldm1vtwRAmh4UlKLVBEA3EmiwqfMEQLMj1Xd+EQVAyHa+nxovBUAzL4fdd0wFQLBwkuaPaQVA+l5DcFyGBUDNHf0v16IFQOXQItv5vgVA/psXJ77aBUDSoj7JHfYFQCAJ+3YSEQZAofKv5ZUrBkASg8DKoUUGQC7ej9svXwZAsieBzTl4BkBZg/dVuZAGQN8UViqoqAZA//////+/BkB2aFiMutYGQABywoTR7AZAV0Chnj4CB0A491eP+xYHQF66SQwCKwdAhq3Zyks+B0Bq9GqA0lAHQMiyYOKPYgdAWgwepn1zB0DcJAaBlYMHQAsgfCjRkgdAoiHjUSqhB0BcTZ6ymq4HQPfGEAAcuwdALLKd76fGB0C5Mqg2ONEHQFhsk4rG2gdAxoLCoEzjB0C+mZguxOoHQP3UeOkm8QdAPVjGhm72B0A8R+S7lPoHQLTFNT6T/QdAYfcdw2P/B0A=\",\"dtype\":\"float64\",\"shape\":[100]}}},\"id\":\"391db51f-11e8-4348-aed9-95a95c80697b\",\"type\":\"ColumnDataSource\"},{\"attributes\":{\"plot\":null,\"text\":\"Cubic Interpolation between two DataPoints\"},\"id\":\"eff79fda-aa66-4063-a338-6337888c6282\",\"type\":\"Title\"},{\"attributes\":{\"callback\":null},\"id\":\"57a62c4a-22b4-4c22-bd65-d9c4a3385d5f\",\"type\":\"DataRange1d\"},{\"attributes\":{\"plot\":{\"id\":\"73d53593-a16e-4ee0-9c5c-290572317827\",\"subtype\":\"Figure\",\"type\":\"Plot\"},\"ticker\":{\"id\":\"4b289d27-2e4b-4c9b-a0db-e2f19d5552b4\",\"type\":\"BasicTicker\"}},\"id\":\"1131d24c-b301-41cf-80d4-1c8dc43f07b4\",\"type\":\"Grid\"},{\"attributes\":{\"active_drag\":\"auto\",\"active_inspect\":\"auto\",\"active_scroll\":\"auto\",\"active_tap\":\"auto\",\"tools\":[{\"id\":\"78b2afc3-f6c5-4d05-8b34-557948c07c4f\",\"type\":\"PanTool\"},{\"id\":\"1fb88689-67f7-4b68-8c94-d154134d813b\",\"type\":\"WheelZoomTool\"},{\"id\":\"371311a5-4b7c-45ee-88d9-3e22c93e31dd\",\"type\":\"BoxZoomTool\"},{\"id\":\"1e953d53-019c-4961-9687-94cda6b87d21\",\"type\":\"SaveTool\"},{\"id\":\"d4bf25a5-c3dd-43f8-b55b-b038ec150296\",\"type\":\"ResetTool\"},{\"id\":\"5767bc3b-b841-46bf-bb79-fc0423e48d35\",\"type\":\"HelpTool\"}]},\"id\":\"1b86d74a-c59a-4171-a6e9-e2baaf2d65d9\",\"type\":\"Toolbar\"}],\"root_ids\":[\"73d53593-a16e-4ee0-9c5c-290572317827\"]},\"title\":\"Bokeh Application\",\"version\":\"0.12.10\"}};\n",
       "    var render_items = [{\"docid\":\"1272c8f9-7441-4c74-adcd-179157971344\",\"elementid\":\"4728da26-4651-49be-92da-073dec16f365\",\"modelid\":\"73d53593-a16e-4ee0-9c5c-290572317827\",\"notebook_comms_target\":\"9108cbce-8533-46fc-a3be-14b7e3ef2e0a\"}];\n",
       "\n",
       "    root.Bokeh.embed.embed_items(docs_json, render_items);\n",
       "  }\n",
       "\n",
       "  if (root.Bokeh !== undefined) {\n",
       "    embed_document(root);\n",
       "  } else {\n",
       "    var attempts = 0;\n",
       "    var timer = setInterval(function(root) {\n",
       "      if (root.Bokeh !== undefined) {\n",
       "        embed_document(root);\n",
       "        clearInterval(timer);\n",
       "      }\n",
       "      attempts++;\n",
       "      if (attempts > 100) {\n",
       "        console.log(\"Bokeh: ERROR: Unable to embed document because BokehJS library is missing\")\n",
       "        clearInterval(timer);\n",
       "      }\n",
       "    }, 10, root)\n",
       "  }\n",
       "})(window);"
      ],
      "application/vnd.bokehjs_exec.v0+json": ""
     },
     "metadata": {
      "application/vnd.bokehjs_exec.v0+json": {
       "id": "73d53593-a16e-4ee0-9c5c-290572317827"
      }
     },
     "output_type": "display_data"
    },
    {
     "data": {
      "text/html": [
       "<p><code>&lt;Bokeh Notebook handle for <strong>In[9]</strong>&gt;</code></p>"
      ],
      "text/plain": [
       "<bokeh.io.notebook.CommsHandle at 0xa2a4240>"
      ]
     },
     "execution_count": 9,
     "metadata": {},
     "output_type": "execute_result"
    }
   ],
   "source": [
    "show(plot, notebook_handle=True)"
   ]
  },
  {
   "cell_type": "code",
   "execution_count": 10,
   "metadata": {},
   "outputs": [
    {
     "data": {
      "application/vnd.jupyter.widget-view+json": {
       "model_id": "78958ad9887c4a7eacc9a80f519ab0d6",
       "version_major": 2,
       "version_minor": 0
      },
      "text/plain": [
       "A Jupyter Widget"
      ]
     },
     "metadata": {},
     "output_type": "display_data"
    },
    {
     "data": {
      "text/plain": [
       "<function __main__.update>"
      ]
     },
     "execution_count": 10,
     "metadata": {},
     "output_type": "execute_result"
    }
   ],
   "source": [
    "interact(update, f1=(1.,4.), f2=(1.,4.), diff1=(-10.,10.), diff2=(-10.,10.))"
   ]
  },
  {
   "cell_type": "code",
   "execution_count": null,
   "metadata": {
    "collapsed": true
   },
   "outputs": [],
   "source": []
  }
 ],
 "metadata": {
  "kernelspec": {
   "display_name": "Python 3",
   "language": "python",
   "name": "python3"
  },
  "language_info": {
   "codemirror_mode": {
    "name": "ipython",
    "version": 3
   },
   "file_extension": ".py",
   "mimetype": "text/x-python",
   "name": "python",
   "nbconvert_exporter": "python",
   "pygments_lexer": "ipython3",
   "version": "3.6.3"
  }
 },
 "nbformat": 4,
 "nbformat_minor": 2
}
